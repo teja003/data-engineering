{
 "cells": [
  {
   "cell_type": "code",
   "execution_count": 1,
   "id": "5f6a9132",
   "metadata": {},
   "outputs": [],
   "source": [
    "from pyspark.sql import SparkSession\n",
    "from pyspark.sql.functions import *"
   ]
  },
  {
   "cell_type": "code",
   "execution_count": 2,
   "id": "452e13c7",
   "metadata": {},
   "outputs": [],
   "source": [
    "spark = SparkSession.builder.appName(\"pyspark_docs\").getOrCreate()"
   ]
  },
  {
   "cell_type": "code",
   "execution_count": 3,
   "id": "695ec709",
   "metadata": {},
   "outputs": [
    {
     "data": {
      "text/html": [
       "\n",
       "        <div>\n",
       "            <p><b>SparkContext</b></p>\n",
       "\n",
       "            <p><a href=\"http://DESKTOP-4L01UE8:4042\">Spark UI</a></p>\n",
       "\n",
       "            <dl>\n",
       "              <dt>Version</dt>\n",
       "                <dd><code>v3.2.1</code></dd>\n",
       "              <dt>Master</dt>\n",
       "                <dd><code>local[*]</code></dd>\n",
       "              <dt>AppName</dt>\n",
       "                <dd><code>pyspark_docs</code></dd>\n",
       "            </dl>\n",
       "        </div>\n",
       "        "
      ],
      "text/plain": [
       "<SparkContext master=local[*] appName=pyspark_docs>"
      ]
     },
     "execution_count": 3,
     "metadata": {},
     "output_type": "execute_result"
    }
   ],
   "source": [
    "spark_context = spark.sparkContext\n",
    "spark_context"
   ]
  },
  {
   "cell_type": "markdown",
   "id": "126aef1f",
   "metadata": {},
   "source": [
    "`spark` and `spark.sparkContext` show same result"
   ]
  },
  {
   "cell_type": "markdown",
   "id": "0dca012a",
   "metadata": {},
   "source": [
    "## File Reading & Writing"
   ]
  },
  {
   "cell_type": "code",
   "execution_count": 4,
   "id": "557db998",
   "metadata": {},
   "outputs": [],
   "source": [
    "df_csv = spark.read.csv('covid.csv',header=True)\n",
    "df_json = spark.read.option(\"multiline\",\"true\").json('example.json')"
   ]
  },
  {
   "cell_type": "code",
   "execution_count": null,
   "id": "5a7cf2bd",
   "metadata": {
    "scrolled": true
   },
   "outputs": [],
   "source": [
    "df_csv.show()\n",
    "df_json.show()"
   ]
  },
  {
   "cell_type": "code",
   "execution_count": null,
   "id": "827a01aa",
   "metadata": {},
   "outputs": [],
   "source": [
    "df_csv.write.csv(\"export/csv\",header=True)\n",
    "df_csv.write.json(\"export/json\")\n",
    "df.write.parquet(\"export/parquet\")"
   ]
  },
  {
   "cell_type": "markdown",
   "id": "c9289e65",
   "metadata": {},
   "source": [
    "## Create RDD"
   ]
  },
  {
   "cell_type": "code",
   "execution_count": null,
   "id": "e8613c94",
   "metadata": {},
   "outputs": [],
   "source": [
    "data = [(\"Yuvateja Reddy\",\"Asssociate Engineer\"),(\"Yuvateja Reddy\",\"Intern\")]\n",
    "rdd = spark.sparkContext.parallelize(data)\n",
    "# RDD to DF\n",
    "rdd_df = rdd.toDF() #rdd.toDF(schema)"
   ]
  },
  {
   "cell_type": "markdown",
   "id": "868ffd1a",
   "metadata": {},
   "source": [
    "### Craete DataFrame"
   ]
  },
  {
   "cell_type": "code",
   "execution_count": null,
   "id": "553ff153",
   "metadata": {},
   "outputs": [],
   "source": [
    "data_df = spark.createDataFrame(data,[\"name\",\"role\"])"
   ]
  },
  {
   "cell_type": "markdown",
   "id": "3648343a",
   "metadata": {},
   "source": [
    "### DF Schema Information"
   ]
  },
  {
   "cell_type": "code",
   "execution_count": null,
   "id": "30976c48",
   "metadata": {},
   "outputs": [],
   "source": [
    "df_csv.printSchema()\n",
    "df_csv.dtypes\n",
    "df_csv.schema"
   ]
  },
  {
   "cell_type": "markdown",
   "id": "58f7f63f",
   "metadata": {},
   "source": [
    "#"
   ]
  },
  {
   "cell_type": "code",
   "execution_count": null,
   "id": "1fb994c8",
   "metadata": {},
   "outputs": [],
   "source": [
    "df_csv.where(df_csv[\"Death\"]>=15000).show()\n",
    "df_csv.where(~(df_csv[\"Death\"]==0)).show()\n",
    "# where and filter works same"
   ]
  },
  {
   "cell_type": "code",
   "execution_count": null,
   "id": "bdcabd7d",
   "metadata": {},
   "outputs": [],
   "source": [
    "double_death = df_csv.withColumn(\"Death\", df_csv[\"Death\"].cast(\"Integer\"))\n",
    "double_death = df_csv.withColumn(\"Death\", df_csv[\"Death\"]*2+1)\n",
    "double_death = df_csv.withColumn(\"double_death\", df_csv[\"Death\"]*2+1)\n",
    "double_death = df_csv.withColumnRenamed(\"Name of State / UT\",\"state_ut\")\n"
   ]
  },
  {
   "cell_type": "code",
   "execution_count": null,
   "id": "907311d3",
   "metadata": {},
   "outputs": [],
   "source": [
    "df_format = double_death.drop(\"double_death\").drop(\"Latitude\").drop('longitude').withColumn(\"state_ut\",lower(double_death[\"state_ut\"]))"
   ]
  },
  {
   "cell_type": "code",
   "execution_count": null,
   "id": "c0e58ede",
   "metadata": {},
   "outputs": [],
   "source": [
    "# concat, concat_ws, lit, lower, upper"
   ]
  },
  {
   "cell_type": "code",
   "execution_count": null,
   "id": "effed86c",
   "metadata": {},
   "outputs": [],
   "source": [
    "df_format.select(\"state_ut\").show(n=2)"
   ]
  },
  {
   "cell_type": "code",
   "execution_count": null,
   "id": "58be787e",
   "metadata": {},
   "outputs": [],
   "source": [
    "df_format.filter(df_format[\"state_ut\"].startswith(\"a\")).show(n=2)"
   ]
  },
  {
   "cell_type": "code",
   "execution_count": null,
   "id": "fadc66c5",
   "metadata": {},
   "outputs": [],
   "source": [
    "df_format.filter(df_format[\"state_ut\"].endswith(\"m\")).show(n=2)"
   ]
  },
  {
   "cell_type": "code",
   "execution_count": null,
   "id": "5669a17d",
   "metadata": {},
   "outputs": [],
   "source": [
    "df_format.select(df_format[\"state_ut\"].substr(1,5)).alias(\"short_state\").show(n=2)"
   ]
  },
  {
   "cell_type": "code",
   "execution_count": null,
   "id": "7f5e49ce",
   "metadata": {},
   "outputs": [],
   "source": []
  }
 ],
 "metadata": {
  "kernelspec": {
   "display_name": "Python 3 (ipykernel)",
   "language": "python",
   "name": "python3"
  },
  "language_info": {
   "codemirror_mode": {
    "name": "ipython",
    "version": 3
   },
   "file_extension": ".py",
   "mimetype": "text/x-python",
   "name": "python",
   "nbconvert_exporter": "python",
   "pygments_lexer": "ipython3",
   "version": "3.11.3"
  }
 },
 "nbformat": 4,
 "nbformat_minor": 5
}
