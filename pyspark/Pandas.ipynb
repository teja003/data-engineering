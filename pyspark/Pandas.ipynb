{
 "cells": [
  {
   "cell_type": "code",
   "execution_count": 1,
   "id": "d7e82b86",
   "metadata": {},
   "outputs": [],
   "source": [
    "import pandas as pd\n",
    "import numpy as np\n",
    "# pd.set_option('display.max_columns',10)\n",
    "# pd.set_option('display.max_rows',20)"
   ]
  },
  {
   "cell_type": "code",
   "execution_count": 2,
   "id": "8514bcfa",
   "metadata": {
    "scrolled": true
   },
   "outputs": [
    {
     "name": "stdout",
     "output_type": "stream",
     "text": [
      "<class 'pandas.core.frame.DataFrame'>\n",
      "RangeIndex: 4692 entries, 0 to 4691\n",
      "Data columns (total 10 columns):\n",
      " #   Column                     Non-Null Count  Dtype  \n",
      "---  ------                     --------------  -----  \n",
      " 0   Date                       4692 non-null   object \n",
      " 1   Name of State / UT         4692 non-null   object \n",
      " 2   Latitude                   4692 non-null   float64\n",
      " 3   Longitude                  4692 non-null   float64\n",
      " 4   Total Confirmed cases      4692 non-null   float64\n",
      " 5   Death                      4692 non-null   object \n",
      " 6   Cured/Discharged/Migrated  4692 non-null   float64\n",
      " 7   New cases                  4692 non-null   int64  \n",
      " 8   New deaths                 4692 non-null   int64  \n",
      " 9   New recovered              4692 non-null   int64  \n",
      "dtypes: float64(4), int64(3), object(3)\n",
      "memory usage: 366.7+ KB\n"
     ]
    }
   ],
   "source": [
    "na_vals = [\"NA\",\"Missing\"]\n",
    "df = pd.read_csv('covid.csv',na_values=na_vals) #index_col='col_name'\n",
    "df\n",
    "df.head(10)\n",
    "df.tail(10)\n",
    "df.shape\n",
    "df.info()"
   ]
  },
  {
   "cell_type": "code",
   "execution_count": null,
   "id": "6eab64bf",
   "metadata": {
    "scrolled": false
   },
   "outputs": [],
   "source": [
    "people = {\n",
    "    \"first\":[\"Teja\",\"Soma\", np.nan,\"Cool\",np.nan],\n",
    "    \"last\":[\"Reddy\",\"Shekar\",\"Hello\",\"Chill\",\"dude\"],\n",
    "    \"email\":[\"yuvatejareddy@gmail.com\",\"soms@gmail.com\",np.nan,np.nan,\"chill@chill.com\"],\n",
    "    \"age\":['10','21','45',None,None]\n",
    "}\n",
    "people_df = pd.DataFrame(people)\n",
    "people_df"
   ]
  },
  {
   "cell_type": "markdown",
   "id": "9232715c",
   "metadata": {},
   "source": [
    "## Selecting Rows and Columns"
   ]
  },
  {
   "cell_type": "code",
   "execution_count": null,
   "id": "6ea519ff",
   "metadata": {},
   "outputs": [],
   "source": [
    "people_df['email'] #==people_df.email "
   ]
  },
  {
   "cell_type": "code",
   "execution_count": null,
   "id": "9f73b0fa",
   "metadata": {},
   "outputs": [],
   "source": [
    "people_df[['first','last']]"
   ]
  },
  {
   "cell_type": "code",
   "execution_count": null,
   "id": "71287517",
   "metadata": {},
   "outputs": [],
   "source": [
    "df.columns"
   ]
  },
  {
   "cell_type": "code",
   "execution_count": null,
   "id": "922b498c",
   "metadata": {},
   "outputs": [],
   "source": [
    "df.iloc[10]"
   ]
  },
  {
   "cell_type": "code",
   "execution_count": null,
   "id": "cf65ab8b",
   "metadata": {},
   "outputs": [],
   "source": [
    "df.iloc[[0,10,20]]"
   ]
  },
  {
   "cell_type": "code",
   "execution_count": null,
   "id": "7682b6e3",
   "metadata": {},
   "outputs": [],
   "source": [
    "df.iloc[[0,20],[1,2,3,4]]"
   ]
  },
  {
   "cell_type": "code",
   "execution_count": null,
   "id": "d4600a8e",
   "metadata": {},
   "outputs": [],
   "source": [
    "df.loc[0]\n",
    "df.loc[[0,10,21],[\"Latitude\",\"Longitude\"]]"
   ]
  },
  {
   "cell_type": "code",
   "execution_count": null,
   "id": "0fc16bd0",
   "metadata": {},
   "outputs": [],
   "source": [
    "df[\"Name of State / UT\"].value_counts()"
   ]
  },
  {
   "cell_type": "code",
   "execution_count": null,
   "id": "0cc20e38",
   "metadata": {},
   "outputs": [],
   "source": [
    "df.loc[0:5,\"Name of State / UT\":\"Total Confirmed cases\"]"
   ]
  },
  {
   "cell_type": "code",
   "execution_count": null,
   "id": "223a89ae",
   "metadata": {},
   "outputs": [],
   "source": [
    "df.iloc[0:5,1:5]"
   ]
  },
  {
   "cell_type": "code",
   "execution_count": null,
   "id": "f6681c49",
   "metadata": {},
   "outputs": [],
   "source": [
    "# Indexing\n",
    "people_df.set_index(\"email\",inplace=True)"
   ]
  },
  {
   "cell_type": "code",
   "execution_count": null,
   "id": "e8689e64",
   "metadata": {},
   "outputs": [],
   "source": [
    "people_df.index"
   ]
  },
  {
   "cell_type": "code",
   "execution_count": null,
   "id": "0439cdc1",
   "metadata": {},
   "outputs": [],
   "source": [
    "people_df.loc[\"yuvatejareddy@gmail.com\",[\"first\",\"last\"]]"
   ]
  },
  {
   "cell_type": "code",
   "execution_count": null,
   "id": "b2cf8560",
   "metadata": {},
   "outputs": [],
   "source": [
    "people_df.reset_index(inplace=True)\n",
    "# people_df.reset_index()"
   ]
  },
  {
   "cell_type": "code",
   "execution_count": null,
   "id": "bc7621f1",
   "metadata": {},
   "outputs": [],
   "source": [
    "df.sort_index()\n",
    "df.sort_index(ascending=False)\n",
    "df.sort_index(inplace=True)"
   ]
  },
  {
   "cell_type": "markdown",
   "id": "c85a4a7f",
   "metadata": {},
   "source": [
    "## Filtering"
   ]
  },
  {
   "cell_type": "code",
   "execution_count": null,
   "id": "c70bc7a0",
   "metadata": {},
   "outputs": [],
   "source": [
    "filt = (people_df[\"first\"]==\"Teja\") # can write complex filters using &, |, ~\n",
    "people_df[filt]"
   ]
  },
  {
   "cell_type": "code",
   "execution_count": null,
   "id": "514c510b",
   "metadata": {},
   "outputs": [],
   "source": [
    "people_df.loc[filt,\"last\"]"
   ]
  },
  {
   "cell_type": "code",
   "execution_count": null,
   "id": "02d125b3",
   "metadata": {},
   "outputs": [],
   "source": [
    "people_df.loc[filt,[\"last\",\"email\"]]"
   ]
  },
  {
   "cell_type": "code",
   "execution_count": null,
   "id": "012fdbb0",
   "metadata": {},
   "outputs": [],
   "source": [
    "states = [\"Kerala\", \"Maharastra\",\"Andhra Pradesh\"]\n",
    "s_filter = df[\"Name of State / UT\"].isin(states)\n",
    "st_filter = df[\"Name of State / UT\"].str.contains(\"Pradesh\",na=False)"
   ]
  },
  {
   "cell_type": "code",
   "execution_count": null,
   "id": "d31cc046",
   "metadata": {},
   "outputs": [],
   "source": [
    "df[st_filter]\n",
    "df.loc[st_filter,\"Name of State / UT\"]"
   ]
  },
  {
   "cell_type": "markdown",
   "id": "79faa78d",
   "metadata": {},
   "source": [
    "## updating"
   ]
  },
  {
   "cell_type": "code",
   "execution_count": null,
   "id": "4b96501d",
   "metadata": {},
   "outputs": [],
   "source": [
    "people_df.columns\n",
    "people_df"
   ]
  },
  {
   "cell_type": "code",
   "execution_count": null,
   "id": "41132c24",
   "metadata": {},
   "outputs": [],
   "source": [
    "people_df.columns = [\"First_name\",\"Last_name\",\"Email\"]"
   ]
  },
  {
   "cell_type": "code",
   "execution_count": null,
   "id": "157dbe8f",
   "metadata": {},
   "outputs": [],
   "source": [
    "people_df"
   ]
  },
  {
   "cell_type": "code",
   "execution_count": null,
   "id": "3cd5a683",
   "metadata": {},
   "outputs": [],
   "source": [
    "people_df.columns = [x.lower() for x in people_df.columns]"
   ]
  },
  {
   "cell_type": "code",
   "execution_count": null,
   "id": "d77c4a22",
   "metadata": {},
   "outputs": [],
   "source": [
    "people_df.columns = people_df.columns.str.replace('_', \" \")\n",
    "people_df"
   ]
  },
  {
   "cell_type": "code",
   "execution_count": null,
   "id": "c8db3dfe",
   "metadata": {},
   "outputs": [],
   "source": [
    "people_df.columns = people_df.columns.str.replace(' ', \"_\")\n",
    "people_df"
   ]
  },
  {
   "cell_type": "code",
   "execution_count": null,
   "id": "8c30b714",
   "metadata": {},
   "outputs": [],
   "source": [
    "people_df.rename(columns={'first_name':\"first\",\"last_name\":\"last\"},inplace=True)\n",
    "people_df"
   ]
  },
  {
   "cell_type": "code",
   "execution_count": null,
   "id": "d04c03e3",
   "metadata": {},
   "outputs": [],
   "source": [
    "people_df.loc[1] = [\"soma\",\"shekar\",\"Soma@gmail.com\"]"
   ]
  },
  {
   "cell_type": "code",
   "execution_count": null,
   "id": "fe435809",
   "metadata": {},
   "outputs": [],
   "source": [
    "people_df.loc[1,['first','last']] = [\"Soma\",\"Shekar\"]"
   ]
  },
  {
   "cell_type": "code",
   "execution_count": null,
   "id": "d66aed84",
   "metadata": {},
   "outputs": [],
   "source": [
    "people_df.loc[1,\"email\"] = \"Somashekar@gmail.com\""
   ]
  },
  {
   "cell_type": "code",
   "execution_count": null,
   "id": "f5964915",
   "metadata": {},
   "outputs": [],
   "source": [
    "people_df.at[0,\"email\"] = \"Yuvatejareddy003@gmail.com\""
   ]
  },
  {
   "cell_type": "code",
   "execution_count": null,
   "id": "b33e9908",
   "metadata": {},
   "outputs": [],
   "source": [
    "s_email_filt = (people_df[\"last\"]==\"Shekar\")\n",
    "people_df.loc[s_email_filt,\"email\"] = \"Somashekar003@gmail.com\"\n",
    "people_df['email'] = people_df['email'].str.lower()"
   ]
  },
  {
   "cell_type": "code",
   "execution_count": null,
   "id": "1e524c86",
   "metadata": {},
   "outputs": [],
   "source": [
    "people_df[\"email\"].apply(len)"
   ]
  },
  {
   "cell_type": "code",
   "execution_count": null,
   "id": "1b30d899",
   "metadata": {},
   "outputs": [],
   "source": [
    "def upper_email(email):\n",
    "    return email.upper()\n",
    "people_df[\"email\"] = people_df[\"email\"].apply(upper_email)\n",
    "people_df"
   ]
  },
  {
   "cell_type": "code",
   "execution_count": null,
   "id": "47ce7566",
   "metadata": {},
   "outputs": [],
   "source": [
    "people_df[\"email\"] = people_df[\"email\"].apply(lambda x: x.lower())\n",
    "people_df"
   ]
  },
  {
   "cell_type": "code",
   "execution_count": null,
   "id": "c1c16cf3",
   "metadata": {},
   "outputs": [],
   "source": [
    "people_df.apply(len)"
   ]
  },
  {
   "cell_type": "code",
   "execution_count": null,
   "id": "621e93eb",
   "metadata": {},
   "outputs": [],
   "source": [
    "people_df.apply(len,axis='columns')"
   ]
  },
  {
   "cell_type": "code",
   "execution_count": null,
   "id": "30bbaa02",
   "metadata": {},
   "outputs": [],
   "source": [
    "people_df.apply(pd.Series.min)\n",
    "people_df.apply(lambda x: x.min())\n",
    "people_df.apply(pd.Series.max)\n",
    "people_df.apply(lambda x: x.max())"
   ]
  },
  {
   "cell_type": "code",
   "execution_count": null,
   "id": "d5e865f2",
   "metadata": {},
   "outputs": [],
   "source": [
    "people_df.applymap(len)"
   ]
  },
  {
   "cell_type": "code",
   "execution_count": null,
   "id": "0bddae07",
   "metadata": {},
   "outputs": [],
   "source": [
    "people_df.applymap(str.upper)"
   ]
  },
  {
   "cell_type": "code",
   "execution_count": null,
   "id": "e521519b",
   "metadata": {},
   "outputs": [],
   "source": [
    "people_df['first'].map({'Teja':'Yuvateja'})"
   ]
  },
  {
   "cell_type": "code",
   "execution_count": null,
   "id": "ac7c8556",
   "metadata": {},
   "outputs": [],
   "source": [
    "people_df['first'] = people_df['first'].replace({'Teja':'Yuvateja'})"
   ]
  },
  {
   "cell_type": "code",
   "execution_count": null,
   "id": "c28c82d8",
   "metadata": {},
   "outputs": [],
   "source": []
  },
  {
   "cell_type": "code",
   "execution_count": null,
   "id": "4af7ea62",
   "metadata": {},
   "outputs": [],
   "source": []
  },
  {
   "cell_type": "code",
   "execution_count": null,
   "id": "3ee9f894",
   "metadata": {},
   "outputs": [],
   "source": [
    "# apply - both\n",
    "# applymap - dataframe\n",
    "# map - series"
   ]
  },
  {
   "cell_type": "markdown",
   "id": "b88b129f",
   "metadata": {},
   "source": [
    "## Add Rows & Columns"
   ]
  },
  {
   "cell_type": "code",
   "execution_count": null,
   "id": "6dc8d927",
   "metadata": {},
   "outputs": [],
   "source": [
    "people_df['full_name'] = people_df['first']+\" \"+people_df[\"last\"]"
   ]
  },
  {
   "cell_type": "code",
   "execution_count": null,
   "id": "326416c4",
   "metadata": {},
   "outputs": [],
   "source": [
    "people_df"
   ]
  },
  {
   "cell_type": "code",
   "execution_count": null,
   "id": "1a0b8c8e",
   "metadata": {},
   "outputs": [],
   "source": [
    "# removed_fl = people_df.drop(columns=['first','last'])\n",
    "people_df.drop(columns=['first','last'],inplace=True)"
   ]
  },
  {
   "cell_type": "code",
   "execution_count": null,
   "id": "2b838575",
   "metadata": {},
   "outputs": [],
   "source": [
    "people_df[['first','last']] = people_df['full_name'].str.split(' ',expand=True)"
   ]
  },
  {
   "cell_type": "code",
   "execution_count": null,
   "id": "d8fcc1fa",
   "metadata": {},
   "outputs": [],
   "source": [
    "people_df"
   ]
  },
  {
   "cell_type": "code",
   "execution_count": null,
   "id": "b80d7389",
   "metadata": {},
   "outputs": [],
   "source": [
    "people_df = pd.concat([people_df,pd.DataFrame({'email':['dummy@dummy.com'],'first':['cool'],\"last\":[\"cool\"],\"full_name\":[\"cool cool\"]})],ignore_index=True) # axis='columns' form joining series\n",
    "people_df"
   ]
  },
  {
   "cell_type": "code",
   "execution_count": null,
   "id": "c7fabb4a",
   "metadata": {},
   "outputs": [],
   "source": [
    "people_df2 = pd.concat([people_df,people_df],ignore_index=True,sort=False)\n",
    "people_df2"
   ]
  },
  {
   "cell_type": "code",
   "execution_count": null,
   "id": "1c8c227b",
   "metadata": {},
   "outputs": [],
   "source": [
    "people_df.drop(index=3,inplace=True)"
   ]
  },
  {
   "cell_type": "code",
   "execution_count": null,
   "id": "acc73c0b",
   "metadata": {},
   "outputs": [],
   "source": [
    "people_df.drop(index=people_df[people_df['last']==\"cool\"].index,inplace=True)"
   ]
  },
  {
   "cell_type": "code",
   "execution_count": null,
   "id": "eca6c951",
   "metadata": {},
   "outputs": [],
   "source": [
    "people_df"
   ]
  },
  {
   "cell_type": "markdown",
   "id": "fa8a6034",
   "metadata": {},
   "source": [
    "## Sorting"
   ]
  },
  {
   "cell_type": "code",
   "execution_count": null,
   "id": "7f15535d",
   "metadata": {},
   "outputs": [],
   "source": [
    "df.sort_values(by=\"Name of State / UT\",ascending=False)\n",
    "# can use inplace with sort_values"
   ]
  },
  {
   "cell_type": "code",
   "execution_count": null,
   "id": "d26249b8",
   "metadata": {},
   "outputs": [],
   "source": [
    "df.sort_values(by=[\"Name of State / UT\",\"Death\"])"
   ]
  },
  {
   "cell_type": "code",
   "execution_count": null,
   "id": "6b771ca8",
   "metadata": {},
   "outputs": [],
   "source": [
    "df.sort_values(by=[\"Name of State / UT\",\"Death\"],ascending=[True,False],inplace=True)"
   ]
  },
  {
   "cell_type": "code",
   "execution_count": null,
   "id": "48e3d5fc",
   "metadata": {},
   "outputs": [],
   "source": [
    "df.sort_index()"
   ]
  },
  {
   "cell_type": "code",
   "execution_count": null,
   "id": "2f20f28f",
   "metadata": {},
   "outputs": [],
   "source": [
    "df[\"Name of State / UT\"].sort_values()\n",
    "df[\"Name of State / UT\"].sort_values().unique()"
   ]
  },
  {
   "cell_type": "code",
   "execution_count": null,
   "id": "dd43c5b8",
   "metadata": {},
   "outputs": [],
   "source": [
    "df['Death'].nlargest(10)"
   ]
  },
  {
   "cell_type": "code",
   "execution_count": null,
   "id": "497d24cd",
   "metadata": {},
   "outputs": [],
   "source": [
    "df.nlargest(10,\"Death\")\n",
    "df.nsmallest(10,\"Death\")"
   ]
  },
  {
   "cell_type": "code",
   "execution_count": null,
   "id": "92e4fc46",
   "metadata": {},
   "outputs": [],
   "source": []
  },
  {
   "cell_type": "code",
   "execution_count": null,
   "id": "6fcfdd1e",
   "metadata": {},
   "outputs": [],
   "source": []
  },
  {
   "cell_type": "code",
   "execution_count": null,
   "id": "fb9bf6ad",
   "metadata": {},
   "outputs": [],
   "source": [
    "# REPLACE, APPLY, fillna, dropna"
   ]
  },
  {
   "cell_type": "markdown",
   "id": "f417b124",
   "metadata": {},
   "source": [
    "# CASTING && Handling Missing Values"
   ]
  },
  {
   "cell_type": "code",
   "execution_count": null,
   "id": "dbcc744e",
   "metadata": {},
   "outputs": [],
   "source": [
    "people_df.isna()"
   ]
  },
  {
   "cell_type": "code",
   "execution_count": null,
   "id": "8887d8a5",
   "metadata": {},
   "outputs": [],
   "source": [
    "people_df.dropna()\n",
    "people_df.dropna(axis='index',how='any')\n",
    "people_df.dropna(axis='columns',how='any')\n",
    "# axis = index | columns, how = any | all"
   ]
  },
  {
   "cell_type": "code",
   "execution_count": null,
   "id": "d6c78f91",
   "metadata": {
    "scrolled": true
   },
   "outputs": [],
   "source": [
    "people_df.dropna(axis='index',how='all',subset=['email'])\n",
    "people_df.dropna(axis='index',how='all',subset=['last','email'])"
   ]
  },
  {
   "cell_type": "code",
   "execution_count": null,
   "id": "dda98f0e",
   "metadata": {},
   "outputs": [],
   "source": [
    "people_df.replace('NA',np.nan,inplace=True)\n",
    "people_df.replace('Missing',np.nan,inplace=True)\n",
    "df.replace('0#','0',inplace=True)\n",
    "people_df"
   ]
  },
  {
   "cell_type": "code",
   "execution_count": null,
   "id": "0edd6d65",
   "metadata": {},
   "outputs": [],
   "source": [
    "people_df.fillna(\"MISSING\")\n",
    "people_df.fillna(0) #inplace=True "
   ]
  },
  {
   "cell_type": "code",
   "execution_count": null,
   "id": "dec5e8c1",
   "metadata": {},
   "outputs": [],
   "source": [
    "people_df.dtypes\n",
    "people_df[\"age\"] = people_df['age'].astype('float64')\n",
    "df[\"Death\"] = df[\"Death\"].astype(int)"
   ]
  },
  {
   "cell_type": "markdown",
   "id": "cf19e60e",
   "metadata": {},
   "source": [
    "## Grouping && Aggregation"
   ]
  },
  {
   "cell_type": "code",
   "execution_count": null,
   "id": "9127b29c",
   "metadata": {},
   "outputs": [],
   "source": [
    "print(df.dtypes)"
   ]
  },
  {
   "cell_type": "code",
   "execution_count": null,
   "id": "92c6fc73",
   "metadata": {},
   "outputs": [],
   "source": [
    "df.describe()\n",
    "df[\"Death\"].describe()"
   ]
  },
  {
   "cell_type": "code",
   "execution_count": null,
   "id": "381e7ef2",
   "metadata": {},
   "outputs": [],
   "source": [
    "df[\"Name of State / UT\"].value_counts() #normalize=True"
   ]
  },
  {
   "cell_type": "code",
   "execution_count": null,
   "id": "143869e5",
   "metadata": {},
   "outputs": [],
   "source": [
    "#Groupby = split + apply function + combine results\n",
    "state_grp = df.groupby([\"Name of State / UT\"])"
   ]
  },
  {
   "cell_type": "code",
   "execution_count": null,
   "id": "865913f1",
   "metadata": {},
   "outputs": [],
   "source": [
    "state_grp.get_group('Sikkim')[\"Death\"].value_counts()"
   ]
  },
  {
   "cell_type": "code",
   "execution_count": null,
   "id": "6d6fd771",
   "metadata": {},
   "outputs": [],
   "source": [
    "state_grp['Death'].value_counts().head(30)"
   ]
  },
  {
   "cell_type": "code",
   "execution_count": null,
   "id": "3c14301e",
   "metadata": {},
   "outputs": [],
   "source": [
    "state_grp['Death'].value_counts().loc[\"Sikkim\"]"
   ]
  },
  {
   "cell_type": "code",
   "execution_count": null,
   "id": "61f80f17",
   "metadata": {},
   "outputs": [],
   "source": [
    "state_grp['Death'].mean()\n",
    "state_grp['Death'].median().loc['Telangana']"
   ]
  },
  {
   "cell_type": "code",
   "execution_count": null,
   "id": "0688848a",
   "metadata": {},
   "outputs": [],
   "source": [
    "state_grp['Death'].agg(['mean','median'])"
   ]
  },
  {
   "cell_type": "code",
   "execution_count": null,
   "id": "34d25a85",
   "metadata": {},
   "outputs": [],
   "source": [
    "state_grp['Death'].agg(['mean','median']).loc[\"Goa\"]"
   ]
  },
  {
   "cell_type": "code",
   "execution_count": null,
   "id": "b7e03aa4",
   "metadata": {},
   "outputs": [],
   "source": [
    "df.loc[df[\"Name of State / UT\"]==\"Andhra Pradesh\"][\"Death\"].sum()"
   ]
  },
  {
   "cell_type": "code",
   "execution_count": null,
   "id": "f21d3e94",
   "metadata": {},
   "outputs": [],
   "source": [
    "state_death = state_grp['Death'].apply(sum)\n",
    "state_new_cases = state_grp['Total Confirmed cases'].apply(sum)\n",
    "state_df = pd.concat([state_death,state_new_cases],sort=False,axis='columns')\n",
    "state_df[\"death_percent\"] = state_df[\"Death\"]/state_df[\"Total Confirmed cases\"] * 100\n",
    "state_df.sort_values(by=\"death_percent\",ascending=False)"
   ]
  },
  {
   "cell_type": "markdown",
   "id": "cdd40a4d",
   "metadata": {},
   "source": [
    "## Dates and Time series"
   ]
  },
  {
   "cell_type": "code",
   "execution_count": 3,
   "id": "db2f68f5",
   "metadata": {},
   "outputs": [],
   "source": [
    "eth_df = pd.read_csv('eth.csv')"
   ]
  },
  {
   "cell_type": "code",
   "execution_count": 9,
   "id": "b43b2998",
   "metadata": {},
   "outputs": [
    {
     "data": {
      "text/html": [
       "<div>\n",
       "<style scoped>\n",
       "    .dataframe tbody tr th:only-of-type {\n",
       "        vertical-align: middle;\n",
       "    }\n",
       "\n",
       "    .dataframe tbody tr th {\n",
       "        vertical-align: top;\n",
       "    }\n",
       "\n",
       "    .dataframe thead th {\n",
       "        text-align: right;\n",
       "    }\n",
       "</style>\n",
       "<table border=\"1\" class=\"dataframe\">\n",
       "  <thead>\n",
       "    <tr style=\"text-align: right;\">\n",
       "      <th></th>\n",
       "      <th>Date</th>\n",
       "      <th>Symbol</th>\n",
       "      <th>Open</th>\n",
       "      <th>High</th>\n",
       "      <th>Low</th>\n",
       "      <th>Close</th>\n",
       "      <th>Volume</th>\n",
       "    </tr>\n",
       "  </thead>\n",
       "  <tbody>\n",
       "    <tr>\n",
       "      <th>0</th>\n",
       "      <td>2020-03-13 20:00:00</td>\n",
       "      <td>ETHUSD</td>\n",
       "      <td>129.94</td>\n",
       "      <td>131.82</td>\n",
       "      <td>126.87</td>\n",
       "      <td>128.71</td>\n",
       "      <td>1940673.93</td>\n",
       "    </tr>\n",
       "    <tr>\n",
       "      <th>1</th>\n",
       "      <td>2020-03-13 19:00:00</td>\n",
       "      <td>ETHUSD</td>\n",
       "      <td>119.51</td>\n",
       "      <td>132.02</td>\n",
       "      <td>117.10</td>\n",
       "      <td>129.94</td>\n",
       "      <td>7579741.09</td>\n",
       "    </tr>\n",
       "    <tr>\n",
       "      <th>2</th>\n",
       "      <td>2020-03-13 18:00:00</td>\n",
       "      <td>ETHUSD</td>\n",
       "      <td>124.47</td>\n",
       "      <td>124.85</td>\n",
       "      <td>115.50</td>\n",
       "      <td>119.51</td>\n",
       "      <td>4898735.81</td>\n",
       "    </tr>\n",
       "    <tr>\n",
       "      <th>3</th>\n",
       "      <td>2020-03-13 17:00:00</td>\n",
       "      <td>ETHUSD</td>\n",
       "      <td>124.08</td>\n",
       "      <td>127.42</td>\n",
       "      <td>121.63</td>\n",
       "      <td>124.47</td>\n",
       "      <td>2753450.92</td>\n",
       "    </tr>\n",
       "    <tr>\n",
       "      <th>4</th>\n",
       "      <td>2020-03-13 16:00:00</td>\n",
       "      <td>ETHUSD</td>\n",
       "      <td>124.85</td>\n",
       "      <td>129.51</td>\n",
       "      <td>120.17</td>\n",
       "      <td>124.08</td>\n",
       "      <td>4461424.71</td>\n",
       "    </tr>\n",
       "    <tr>\n",
       "      <th>...</th>\n",
       "      <td>...</td>\n",
       "      <td>...</td>\n",
       "      <td>...</td>\n",
       "      <td>...</td>\n",
       "      <td>...</td>\n",
       "      <td>...</td>\n",
       "      <td>...</td>\n",
       "    </tr>\n",
       "    <tr>\n",
       "      <th>23669</th>\n",
       "      <td>2017-07-01 15:00:00</td>\n",
       "      <td>ETHUSD</td>\n",
       "      <td>265.74</td>\n",
       "      <td>272.74</td>\n",
       "      <td>265.00</td>\n",
       "      <td>272.57</td>\n",
       "      <td>1500282.55</td>\n",
       "    </tr>\n",
       "    <tr>\n",
       "      <th>23670</th>\n",
       "      <td>2017-07-01 14:00:00</td>\n",
       "      <td>ETHUSD</td>\n",
       "      <td>268.79</td>\n",
       "      <td>269.90</td>\n",
       "      <td>265.00</td>\n",
       "      <td>265.74</td>\n",
       "      <td>1702536.85</td>\n",
       "    </tr>\n",
       "    <tr>\n",
       "      <th>23671</th>\n",
       "      <td>2017-07-01 13:00:00</td>\n",
       "      <td>ETHUSD</td>\n",
       "      <td>274.83</td>\n",
       "      <td>274.93</td>\n",
       "      <td>265.00</td>\n",
       "      <td>268.79</td>\n",
       "      <td>3010787.99</td>\n",
       "    </tr>\n",
       "    <tr>\n",
       "      <th>23672</th>\n",
       "      <td>2017-07-01 12:00:00</td>\n",
       "      <td>ETHUSD</td>\n",
       "      <td>275.01</td>\n",
       "      <td>275.01</td>\n",
       "      <td>271.00</td>\n",
       "      <td>274.83</td>\n",
       "      <td>824362.87</td>\n",
       "    </tr>\n",
       "    <tr>\n",
       "      <th>23673</th>\n",
       "      <td>2017-07-01 11:00:00</td>\n",
       "      <td>ETHUSD</td>\n",
       "      <td>279.98</td>\n",
       "      <td>279.99</td>\n",
       "      <td>272.10</td>\n",
       "      <td>275.01</td>\n",
       "      <td>679358.87</td>\n",
       "    </tr>\n",
       "  </tbody>\n",
       "</table>\n",
       "<p>23674 rows × 7 columns</p>\n",
       "</div>"
      ],
      "text/plain": [
       "                     Date  Symbol    Open    High     Low   Close      Volume\n",
       "0     2020-03-13 20:00:00  ETHUSD  129.94  131.82  126.87  128.71  1940673.93\n",
       "1     2020-03-13 19:00:00  ETHUSD  119.51  132.02  117.10  129.94  7579741.09\n",
       "2     2020-03-13 18:00:00  ETHUSD  124.47  124.85  115.50  119.51  4898735.81\n",
       "3     2020-03-13 17:00:00  ETHUSD  124.08  127.42  121.63  124.47  2753450.92\n",
       "4     2020-03-13 16:00:00  ETHUSD  124.85  129.51  120.17  124.08  4461424.71\n",
       "...                   ...     ...     ...     ...     ...     ...         ...\n",
       "23669 2017-07-01 15:00:00  ETHUSD  265.74  272.74  265.00  272.57  1500282.55\n",
       "23670 2017-07-01 14:00:00  ETHUSD  268.79  269.90  265.00  265.74  1702536.85\n",
       "23671 2017-07-01 13:00:00  ETHUSD  274.83  274.93  265.00  268.79  3010787.99\n",
       "23672 2017-07-01 12:00:00  ETHUSD  275.01  275.01  271.00  274.83   824362.87\n",
       "23673 2017-07-01 11:00:00  ETHUSD  279.98  279.99  272.10  275.01   679358.87\n",
       "\n",
       "[23674 rows x 7 columns]"
      ]
     },
     "execution_count": 9,
     "metadata": {},
     "output_type": "execute_result"
    }
   ],
   "source": [
    "eth_df[\"Date\"] = pd.to_datetime(eth_df[\"Date\"],format=\"%Y-%m-%d %I-%p\")\n",
    "eth_df"
   ]
  },
  {
   "cell_type": "code",
   "execution_count": 10,
   "id": "96d44865",
   "metadata": {},
   "outputs": [
    {
     "data": {
      "text/plain": [
       "'Friday'"
      ]
     },
     "execution_count": 10,
     "metadata": {},
     "output_type": "execute_result"
    }
   ],
   "source": [
    "eth_df.loc[0,\"Date\"].day_name()"
   ]
  },
  {
   "cell_type": "code",
   "execution_count": 13,
   "id": "ee59fcbb",
   "metadata": {},
   "outputs": [
    {
     "data": {
      "text/plain": [
       "['__add__',\n",
       " '__class__',\n",
       " '__delattr__',\n",
       " '__dir__',\n",
       " '__doc__',\n",
       " '__eq__',\n",
       " '__format__',\n",
       " '__ge__',\n",
       " '__getattribute__',\n",
       " '__getstate__',\n",
       " '__gt__',\n",
       " '__hash__',\n",
       " '__init__',\n",
       " '__init_subclass__',\n",
       " '__le__',\n",
       " '__lt__',\n",
       " '__ne__',\n",
       " '__new__',\n",
       " '__radd__',\n",
       " '__reduce__',\n",
       " '__reduce_ex__',\n",
       " '__repr__',\n",
       " '__rsub__',\n",
       " '__setattr__',\n",
       " '__sizeof__',\n",
       " '__str__',\n",
       " '__sub__',\n",
       " '__subclasshook__',\n",
       " 'astimezone',\n",
       " 'combine',\n",
       " 'ctime',\n",
       " 'date',\n",
       " 'day',\n",
       " 'dst',\n",
       " 'fold',\n",
       " 'fromisocalendar',\n",
       " 'fromisoformat',\n",
       " 'fromordinal',\n",
       " 'fromtimestamp',\n",
       " 'hour',\n",
       " 'isocalendar',\n",
       " 'isoformat',\n",
       " 'isoweekday',\n",
       " 'max',\n",
       " 'microsecond',\n",
       " 'min',\n",
       " 'minute',\n",
       " 'month',\n",
       " 'now',\n",
       " 'replace',\n",
       " 'resolution',\n",
       " 'second',\n",
       " 'strftime',\n",
       " 'strptime',\n",
       " 'time',\n",
       " 'timestamp',\n",
       " 'timetuple',\n",
       " 'timetz',\n",
       " 'today',\n",
       " 'toordinal',\n",
       " 'tzinfo',\n",
       " 'tzname',\n",
       " 'utcfromtimestamp',\n",
       " 'utcnow',\n",
       " 'utcoffset',\n",
       " 'utctimetuple',\n",
       " 'weekday',\n",
       " 'year']"
      ]
     },
     "execution_count": 13,
     "metadata": {},
     "output_type": "execute_result"
    }
   ],
   "source": [
    "from datetime import datetime\n",
    "dir(datetime)"
   ]
  },
  {
   "cell_type": "code",
   "execution_count": null,
   "id": "26a21dc3",
   "metadata": {},
   "outputs": [],
   "source": []
  },
  {
   "cell_type": "code",
   "execution_count": null,
   "id": "bed19e6d",
   "metadata": {},
   "outputs": [],
   "source": []
  },
  {
   "cell_type": "code",
   "execution_count": null,
   "id": "6367173d",
   "metadata": {},
   "outputs": [],
   "source": []
  },
  {
   "cell_type": "code",
   "execution_count": null,
   "id": "564d4f03",
   "metadata": {},
   "outputs": [],
   "source": []
  },
  {
   "cell_type": "code",
   "execution_count": null,
   "id": "a6f79f45",
   "metadata": {},
   "outputs": [],
   "source": []
  },
  {
   "cell_type": "code",
   "execution_count": null,
   "id": "0ea9d1d1",
   "metadata": {},
   "outputs": [],
   "source": []
  },
  {
   "cell_type": "markdown",
   "id": "4c59974a",
   "metadata": {},
   "source": [
    "## Writing to files"
   ]
  },
  {
   "cell_type": "code",
   "execution_count": null,
   "id": "52569d64",
   "metadata": {},
   "outputs": [],
   "source": [
    "df[(df[\"Name of State / UT\"]==\"Andhra Pradesh\")].to_csv(\"andhra_pradesh.csv\",index=False)"
   ]
  },
  {
   "cell_type": "code",
   "execution_count": null,
   "id": "8d0e8513",
   "metadata": {},
   "outputs": [],
   "source": [
    "df[(df[\"Name of State / UT\"]==\"Andhra Pradesh\")].to_csv(\"andhra_pradesh.tsv\",sep=\"\\t\")"
   ]
  },
  {
   "cell_type": "code",
   "execution_count": null,
   "id": "feba8a39",
   "metadata": {},
   "outputs": [],
   "source": [
    "# xlwt openpyxlm xlrd\n",
    "df[(df[\"Name of State / UT\"]==\"Andhra Pradesh\")].to_excel(\"andhra_pradesh.xlsx\")"
   ]
  },
  {
   "cell_type": "code",
   "execution_count": null,
   "id": "ab4fd5ff",
   "metadata": {},
   "outputs": [],
   "source": [
    "df[(df[\"Name of State / UT\"]==\"Andhra Pradesh\")].to_json(\"andhra_pradesh.json\",orient='records',lines=True)"
   ]
  },
  {
   "cell_type": "code",
   "execution_count": null,
   "id": "fc07957c",
   "metadata": {},
   "outputs": [],
   "source": [
    "#SQLAlchemy psycopg2-binary\n",
    "df.to_sql('table_name',conn,if_exist='replace')\n",
    "pd.read_sql('table_name',conn,index_col=\"1st row, 1st col value\")\n",
    "pd.read_sql_query('slq query',conn,index_col=\"1st row, 1st col value\")"
   ]
  },
  {
   "cell_type": "code",
   "execution_count": null,
   "id": "e433f713",
   "metadata": {},
   "outputs": [],
   "source": [
    "help(df.any)"
   ]
  },
  {
   "cell_type": "code",
   "execution_count": null,
   "id": "316f59fa",
   "metadata": {},
   "outputs": [],
   "source": [
    "# dropna, isnac, transform, drop_duplicates\n",
    "# pd.to_numeric()\n",
    "# series.astype('type')"
   ]
  },
  {
   "cell_type": "code",
   "execution_count": null,
   "id": "f4bfcd43",
   "metadata": {},
   "outputs": [],
   "source": []
  },
  {
   "cell_type": "code",
   "execution_count": null,
   "id": "9bd4c3a1",
   "metadata": {},
   "outputs": [],
   "source": [
    "df.query(\"Death > 100\")"
   ]
  },
  {
   "cell_type": "code",
   "execution_count": null,
   "id": "c213a30d",
   "metadata": {},
   "outputs": [],
   "source": [
    "state_s = [100,200]\n",
    "df.query('Death==@state_s')"
   ]
  },
  {
   "cell_type": "code",
   "execution_count": null,
   "id": "a767fd74",
   "metadata": {},
   "outputs": [],
   "source": [
    "# pd.cut(series,bins=bins,labels=labels)"
   ]
  }
 ],
 "metadata": {
  "kernelspec": {
   "display_name": "Python 3 (ipykernel)",
   "language": "python",
   "name": "python3"
  },
  "language_info": {
   "codemirror_mode": {
    "name": "ipython",
    "version": 3
   },
   "file_extension": ".py",
   "mimetype": "text/x-python",
   "name": "python",
   "nbconvert_exporter": "python",
   "pygments_lexer": "ipython3",
   "version": "3.11.3"
  }
 },
 "nbformat": 4,
 "nbformat_minor": 5
}
