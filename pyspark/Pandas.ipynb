{
 "cells": [
  {
   "cell_type": "code",
   "execution_count": 8,
   "id": "d7e82b86",
   "metadata": {},
   "outputs": [],
   "source": [
    "import pandas as pd\n",
    "import numpy as np\n",
    "# pd.set_option('display.max_columns',10)\n",
    "# pd.set_option('display.max_rows',20)"
   ]
  },
  {
   "cell_type": "markdown",
   "id": "f69a6f9f",
   "metadata": {},
   "source": [
    "## Series"
   ]
  },
  {
   "cell_type": "code",
   "execution_count": 9,
   "id": "0bc1910a",
   "metadata": {},
   "outputs": [],
   "source": [
    "pd_series = pd.Series([1,2,3,4])\n",
    "pd_series_idx = pd.Series(data=[1,2,3,4],index=['banana','apple','mango','lemon'])\n"
   ]
  },
  {
   "cell_type": "code",
   "execution_count": 15,
   "id": "8514bcfa",
   "metadata": {
    "scrolled": true
   },
   "outputs": [
    {
     "data": {
      "text/plain": [
       "Index(['banana', 'apple', 'mango', 'lemon'], dtype='object')"
      ]
     },
     "execution_count": 15,
     "metadata": {},
     "output_type": "execute_result"
    }
   ],
   "source": [
    "idx_pd_series_idx = pd_series_idx.index\n",
    "val_pd_series_idx = pd_series_idx.values\n",
    "idx_pd_series_idx"
   ]
  },
  {
   "cell_type": "code",
   "execution_count": 16,
   "id": "55733b51",
   "metadata": {},
   "outputs": [],
   "source": [
    "pd_series_idx['banana']=20"
   ]
  },
  {
   "cell_type": "code",
   "execution_count": 19,
   "id": "7861f078",
   "metadata": {},
   "outputs": [],
   "source": [
    "pd_series_idx.drop('apple',inplace=True)"
   ]
  },
  {
   "cell_type": "code",
   "execution_count": null,
   "id": "554e0353",
   "metadata": {},
   "outputs": [],
   "source": []
  },
  {
   "cell_type": "code",
   "execution_count": null,
   "id": "ac65d35b",
   "metadata": {},
   "outputs": [],
   "source": []
  },
  {
   "cell_type": "code",
   "execution_count": 48,
   "id": "d86e1d9b",
   "metadata": {},
   "outputs": [
    {
     "name": "stdout",
     "output_type": "stream",
     "text": [
      "<class 'pandas.core.frame.DataFrame'>\n",
      "RangeIndex: 4692 entries, 0 to 4691\n",
      "Data columns (total 10 columns):\n",
      " #   Column                     Non-Null Count  Dtype  \n",
      "---  ------                     --------------  -----  \n",
      " 0   Date                       4692 non-null   object \n",
      " 1   Name of State / UT         4692 non-null   object \n",
      " 2   Latitude                   4692 non-null   float64\n",
      " 3   Longitude                  4692 non-null   float64\n",
      " 4   Total Confirmed cases      4692 non-null   float64\n",
      " 5   Death                      4692 non-null   object \n",
      " 6   Cured/Discharged/Migrated  4692 non-null   float64\n",
      " 7   New cases                  4692 non-null   int64  \n",
      " 8   New deaths                 4692 non-null   int64  \n",
      " 9   New recovered              4692 non-null   int64  \n",
      "dtypes: float64(4), int64(3), object(3)\n",
      "memory usage: 366.7+ KB\n"
     ]
    }
   ],
   "source": [
    "na_vals = [\"NA\",\"Missing\"]\n",
    "df = pd.read_csv('covid.csv',na_values=na_vals) #index_col='col_name'\n",
    "df\n",
    "df.head(10)\n",
    "df.tail(10)\n",
    "df.shape\n",
    "df.info()"
   ]
  },
  {
   "cell_type": "code",
   "execution_count": 28,
   "id": "6eab64bf",
   "metadata": {
    "scrolled": false
   },
   "outputs": [
    {
     "name": "stderr",
     "output_type": "stream",
     "text": [
      "C:\\Users\\HP\\AppData\\Local\\Temp\\ipykernel_14368\\2373774971.py:8: FutureWarning: The frame.append method is deprecated and will be removed from pandas in a future version. Use pandas.concat instead.\n",
      "  people_df.append(pd.DataFrame(people))\n"
     ]
    },
    {
     "data": {
      "text/html": [
       "<div>\n",
       "<style scoped>\n",
       "    .dataframe tbody tr th:only-of-type {\n",
       "        vertical-align: middle;\n",
       "    }\n",
       "\n",
       "    .dataframe tbody tr th {\n",
       "        vertical-align: top;\n",
       "    }\n",
       "\n",
       "    .dataframe thead th {\n",
       "        text-align: right;\n",
       "    }\n",
       "</style>\n",
       "<table border=\"1\" class=\"dataframe\">\n",
       "  <thead>\n",
       "    <tr style=\"text-align: right;\">\n",
       "      <th></th>\n",
       "      <th>first</th>\n",
       "      <th>last</th>\n",
       "      <th>email</th>\n",
       "      <th>age</th>\n",
       "    </tr>\n",
       "  </thead>\n",
       "  <tbody>\n",
       "    <tr>\n",
       "      <th>0</th>\n",
       "      <td>Teja</td>\n",
       "      <td>Reddy</td>\n",
       "      <td>yuvatejareddy@gmail.com</td>\n",
       "      <td>10</td>\n",
       "    </tr>\n",
       "    <tr>\n",
       "      <th>1</th>\n",
       "      <td>Soma</td>\n",
       "      <td>Shekar</td>\n",
       "      <td>soms@gmail.com</td>\n",
       "      <td>21</td>\n",
       "    </tr>\n",
       "    <tr>\n",
       "      <th>2</th>\n",
       "      <td>NaN</td>\n",
       "      <td>Hello</td>\n",
       "      <td>NaN</td>\n",
       "      <td>45</td>\n",
       "    </tr>\n",
       "    <tr>\n",
       "      <th>3</th>\n",
       "      <td>Cool</td>\n",
       "      <td>Chill</td>\n",
       "      <td>NaN</td>\n",
       "      <td>None</td>\n",
       "    </tr>\n",
       "    <tr>\n",
       "      <th>4</th>\n",
       "      <td>NaN</td>\n",
       "      <td>dude</td>\n",
       "      <td>chill@chill.com</td>\n",
       "      <td>None</td>\n",
       "    </tr>\n",
       "    <tr>\n",
       "      <th>0</th>\n",
       "      <td>Teja</td>\n",
       "      <td>Reddy</td>\n",
       "      <td>yuvatejareddy@gmail.com</td>\n",
       "      <td>10</td>\n",
       "    </tr>\n",
       "    <tr>\n",
       "      <th>1</th>\n",
       "      <td>Soma</td>\n",
       "      <td>Shekar</td>\n",
       "      <td>soms@gmail.com</td>\n",
       "      <td>21</td>\n",
       "    </tr>\n",
       "    <tr>\n",
       "      <th>2</th>\n",
       "      <td>NaN</td>\n",
       "      <td>Hello</td>\n",
       "      <td>NaN</td>\n",
       "      <td>45</td>\n",
       "    </tr>\n",
       "    <tr>\n",
       "      <th>3</th>\n",
       "      <td>Cool</td>\n",
       "      <td>Chill</td>\n",
       "      <td>NaN</td>\n",
       "      <td>None</td>\n",
       "    </tr>\n",
       "    <tr>\n",
       "      <th>4</th>\n",
       "      <td>NaN</td>\n",
       "      <td>dude</td>\n",
       "      <td>chill@chill.com</td>\n",
       "      <td>None</td>\n",
       "    </tr>\n",
       "  </tbody>\n",
       "</table>\n",
       "</div>"
      ],
      "text/plain": [
       "  first    last                    email   age\n",
       "0  Teja   Reddy  yuvatejareddy@gmail.com    10\n",
       "1  Soma  Shekar           soms@gmail.com    21\n",
       "2   NaN   Hello                      NaN    45\n",
       "3  Cool   Chill                      NaN  None\n",
       "4   NaN    dude          chill@chill.com  None\n",
       "0  Teja   Reddy  yuvatejareddy@gmail.com    10\n",
       "1  Soma  Shekar           soms@gmail.com    21\n",
       "2   NaN   Hello                      NaN    45\n",
       "3  Cool   Chill                      NaN  None\n",
       "4   NaN    dude          chill@chill.com  None"
      ]
     },
     "execution_count": 28,
     "metadata": {},
     "output_type": "execute_result"
    }
   ],
   "source": [
    "people = {\n",
    "    \"first\":[\"Teja\",\"Soma\", np.nan,\"Cool\",np.nan],\n",
    "    \"last\":[\"Reddy\",\"Shekar\",\"Hello\",\"Chill\",\"dude\"],\n",
    "    \"email\":[\"yuvatejareddy@gmail.com\",\"soms@gmail.com\",np.nan,np.nan,\"chill@chill.com\"],\n",
    "    \"age\":['10','21','45',None,None]\n",
    "}\n",
    "people_df = pd.DataFrame(people)"
   ]
  },
  {
   "cell_type": "markdown",
   "id": "9232715c",
   "metadata": {},
   "source": [
    "## Selecting Rows and Columns"
   ]
  },
  {
   "cell_type": "code",
   "execution_count": null,
   "id": "6ea519ff",
   "metadata": {},
   "outputs": [],
   "source": [
    "people_df['email'] #==people_df.email "
   ]
  },
  {
   "cell_type": "code",
   "execution_count": null,
   "id": "9f73b0fa",
   "metadata": {},
   "outputs": [],
   "source": [
    "people_df[['first','last']]"
   ]
  },
  {
   "cell_type": "code",
   "execution_count": null,
   "id": "71287517",
   "metadata": {},
   "outputs": [],
   "source": [
    "df.columns"
   ]
  },
  {
   "cell_type": "code",
   "execution_count": null,
   "id": "922b498c",
   "metadata": {},
   "outputs": [],
   "source": [
    "df.iloc[10]"
   ]
  },
  {
   "cell_type": "code",
   "execution_count": null,
   "id": "cf65ab8b",
   "metadata": {},
   "outputs": [],
   "source": [
    "df.iloc[[0,10,20]]"
   ]
  },
  {
   "cell_type": "code",
   "execution_count": 20,
   "id": "7682b6e3",
   "metadata": {},
   "outputs": [
    {
     "data": {
      "text/html": [
       "<div>\n",
       "<style scoped>\n",
       "    .dataframe tbody tr th:only-of-type {\n",
       "        vertical-align: middle;\n",
       "    }\n",
       "\n",
       "    .dataframe tbody tr th {\n",
       "        vertical-align: top;\n",
       "    }\n",
       "\n",
       "    .dataframe thead th {\n",
       "        text-align: right;\n",
       "    }\n",
       "</style>\n",
       "<table border=\"1\" class=\"dataframe\">\n",
       "  <thead>\n",
       "    <tr style=\"text-align: right;\">\n",
       "      <th></th>\n",
       "      <th>Name of State / UT</th>\n",
       "      <th>Latitude</th>\n",
       "      <th>Longitude</th>\n",
       "      <th>Total Confirmed cases</th>\n",
       "    </tr>\n",
       "  </thead>\n",
       "  <tbody>\n",
       "    <tr>\n",
       "      <th>0</th>\n",
       "      <td>Kerala</td>\n",
       "      <td>10.8505</td>\n",
       "      <td>76.2711</td>\n",
       "      <td>1.0</td>\n",
       "    </tr>\n",
       "    <tr>\n",
       "      <th>20</th>\n",
       "      <td>Kerala</td>\n",
       "      <td>10.8505</td>\n",
       "      <td>76.2711</td>\n",
       "      <td>3.0</td>\n",
       "    </tr>\n",
       "  </tbody>\n",
       "</table>\n",
       "</div>"
      ],
      "text/plain": [
       "   Name of State / UT  Latitude  Longitude  Total Confirmed cases\n",
       "0              Kerala   10.8505    76.2711                    1.0\n",
       "20             Kerala   10.8505    76.2711                    3.0"
      ]
     },
     "execution_count": 20,
     "metadata": {},
     "output_type": "execute_result"
    }
   ],
   "source": [
    "df.iloc[[0,20],[1,2,3,4]]"
   ]
  },
  {
   "cell_type": "code",
   "execution_count": null,
   "id": "d4600a8e",
   "metadata": {},
   "outputs": [],
   "source": [
    "df.loc[0]\n",
    "df.loc[[0,10,21],[\"Latitude\",\"Longitude\"]]"
   ]
  },
  {
   "cell_type": "code",
   "execution_count": null,
   "id": "0fc16bd0",
   "metadata": {},
   "outputs": [],
   "source": [
    "df[\"Name of State / UT\"].value_counts()"
   ]
  },
  {
   "cell_type": "code",
   "execution_count": null,
   "id": "0cc20e38",
   "metadata": {},
   "outputs": [],
   "source": [
    "df.loc[0:5,\"Name of State / UT\":\"Total Confirmed cases\"]"
   ]
  },
  {
   "cell_type": "code",
   "execution_count": null,
   "id": "223a89ae",
   "metadata": {},
   "outputs": [],
   "source": [
    "df.iloc[0:5,1:5]"
   ]
  },
  {
   "cell_type": "code",
   "execution_count": null,
   "id": "f6681c49",
   "metadata": {},
   "outputs": [],
   "source": [
    "# Indexing\n",
    "people_df.set_index(\"email\",inplace=True)"
   ]
  },
  {
   "cell_type": "code",
   "execution_count": null,
   "id": "e8689e64",
   "metadata": {},
   "outputs": [],
   "source": [
    "people_df.index"
   ]
  },
  {
   "cell_type": "code",
   "execution_count": null,
   "id": "0439cdc1",
   "metadata": {},
   "outputs": [],
   "source": [
    "people_df.loc[\"yuvatejareddy@gmail.com\",[\"first\",\"last\"]]"
   ]
  },
  {
   "cell_type": "code",
   "execution_count": null,
   "id": "b2cf8560",
   "metadata": {},
   "outputs": [],
   "source": [
    "people_df.reset_index(inplace=True)\n",
    "# people_df.reset_index()"
   ]
  },
  {
   "cell_type": "code",
   "execution_count": null,
   "id": "bc7621f1",
   "metadata": {},
   "outputs": [],
   "source": [
    "df.sort_index()\n",
    "df.sort_index(ascending=False)\n",
    "df.sort_index(inplace=True)"
   ]
  },
  {
   "cell_type": "markdown",
   "id": "c85a4a7f",
   "metadata": {},
   "source": [
    "## Filtering"
   ]
  },
  {
   "cell_type": "code",
   "execution_count": null,
   "id": "c70bc7a0",
   "metadata": {},
   "outputs": [],
   "source": [
    "filt = (people_df[\"first\"]==\"Teja\") # can write complex filters using &, |, ~\n",
    "people_df[filt]"
   ]
  },
  {
   "cell_type": "code",
   "execution_count": null,
   "id": "514c510b",
   "metadata": {},
   "outputs": [],
   "source": [
    "people_df.loc[filt,\"last\"]"
   ]
  },
  {
   "cell_type": "code",
   "execution_count": null,
   "id": "02d125b3",
   "metadata": {},
   "outputs": [],
   "source": [
    "people_df.loc[filt,[\"last\",\"email\"]]"
   ]
  },
  {
   "cell_type": "code",
   "execution_count": null,
   "id": "012fdbb0",
   "metadata": {},
   "outputs": [],
   "source": [
    "states = [\"Kerala\", \"Maharastra\",\"Andhra Pradesh\"]\n",
    "s_filter = df[\"Name of State / UT\"].isin(states)\n",
    "st_filter = df[\"Name of State / UT\"].str.contains(\"Pradesh\",na=False)"
   ]
  },
  {
   "cell_type": "code",
   "execution_count": null,
   "id": "d31cc046",
   "metadata": {},
   "outputs": [],
   "source": [
    "df[st_filter]\n",
    "df.loc[st_filter,\"Name of State / UT\"]"
   ]
  },
  {
   "cell_type": "markdown",
   "id": "79faa78d",
   "metadata": {},
   "source": [
    "## updating"
   ]
  },
  {
   "cell_type": "code",
   "execution_count": null,
   "id": "4b96501d",
   "metadata": {},
   "outputs": [],
   "source": [
    "people_df.columns\n",
    "people_df"
   ]
  },
  {
   "cell_type": "code",
   "execution_count": null,
   "id": "41132c24",
   "metadata": {},
   "outputs": [],
   "source": [
    "people_df.columns = [\"First_name\",\"Last_name\",\"Email\"]"
   ]
  },
  {
   "cell_type": "code",
   "execution_count": null,
   "id": "157dbe8f",
   "metadata": {},
   "outputs": [],
   "source": [
    "people_df"
   ]
  },
  {
   "cell_type": "code",
   "execution_count": null,
   "id": "3cd5a683",
   "metadata": {},
   "outputs": [],
   "source": [
    "people_df.columns = [x.lower() for x in people_df.columns]"
   ]
  },
  {
   "cell_type": "code",
   "execution_count": null,
   "id": "d77c4a22",
   "metadata": {},
   "outputs": [],
   "source": [
    "people_df.columns = people_df.columns.str.replace('_', \" \")\n",
    "people_df"
   ]
  },
  {
   "cell_type": "code",
   "execution_count": null,
   "id": "c8db3dfe",
   "metadata": {},
   "outputs": [],
   "source": [
    "people_df.columns = people_df.columns.str.replace(' ', \"_\")\n",
    "people_df"
   ]
  },
  {
   "cell_type": "code",
   "execution_count": null,
   "id": "8c30b714",
   "metadata": {},
   "outputs": [],
   "source": [
    "people_df.rename(columns={'first_name':\"first\",\"last_name\":\"last\"},inplace=True)\n",
    "people_df"
   ]
  },
  {
   "cell_type": "code",
   "execution_count": null,
   "id": "d04c03e3",
   "metadata": {},
   "outputs": [],
   "source": [
    "people_df.loc[1] = [\"soma\",\"shekar\",\"Soma@gmail.com\"]"
   ]
  },
  {
   "cell_type": "code",
   "execution_count": null,
   "id": "fe435809",
   "metadata": {},
   "outputs": [],
   "source": [
    "people_df.loc[1,['first','last']] = [\"Soma\",\"Shekar\"]"
   ]
  },
  {
   "cell_type": "code",
   "execution_count": null,
   "id": "d66aed84",
   "metadata": {},
   "outputs": [],
   "source": [
    "people_df.loc[1,\"email\"] = \"Somashekar@gmail.com\""
   ]
  },
  {
   "cell_type": "code",
   "execution_count": null,
   "id": "f5964915",
   "metadata": {},
   "outputs": [],
   "source": [
    "people_df.at[0,\"email\"] = \"Yuvatejareddy003@gmail.com\""
   ]
  },
  {
   "cell_type": "code",
   "execution_count": null,
   "id": "b33e9908",
   "metadata": {},
   "outputs": [],
   "source": [
    "s_email_filt = (people_df[\"last\"]==\"Shekar\")\n",
    "people_df.loc[s_email_filt,\"email\"] = \"Somashekar003@gmail.com\"\n",
    "people_df['email'] = people_df['email'].str.lower()"
   ]
  },
  {
   "cell_type": "code",
   "execution_count": null,
   "id": "1e524c86",
   "metadata": {},
   "outputs": [],
   "source": [
    "people_df[\"email\"].apply(len)"
   ]
  },
  {
   "cell_type": "code",
   "execution_count": null,
   "id": "1b30d899",
   "metadata": {},
   "outputs": [],
   "source": [
    "def upper_email(email):\n",
    "    return email.upper()\n",
    "people_df[\"email\"] = people_df[\"email\"].apply(upper_email)\n",
    "people_df"
   ]
  },
  {
   "cell_type": "code",
   "execution_count": null,
   "id": "47ce7566",
   "metadata": {},
   "outputs": [],
   "source": [
    "people_df[\"email\"] = people_df[\"email\"].apply(lambda x: x.lower())\n",
    "people_df"
   ]
  },
  {
   "cell_type": "code",
   "execution_count": null,
   "id": "c1c16cf3",
   "metadata": {},
   "outputs": [],
   "source": [
    "people_df.apply(len)"
   ]
  },
  {
   "cell_type": "code",
   "execution_count": null,
   "id": "621e93eb",
   "metadata": {},
   "outputs": [],
   "source": [
    "people_df.apply(len,axis='columns')"
   ]
  },
  {
   "cell_type": "code",
   "execution_count": null,
   "id": "30bbaa02",
   "metadata": {},
   "outputs": [],
   "source": [
    "people_df.apply(pd.Series.min)\n",
    "people_df.apply(lambda x: x.min())\n",
    "people_df.apply(pd.Series.max)\n",
    "people_df.apply(lambda x: x.max())"
   ]
  },
  {
   "cell_type": "code",
   "execution_count": null,
   "id": "d5e865f2",
   "metadata": {},
   "outputs": [],
   "source": [
    "people_df.applymap(len)"
   ]
  },
  {
   "cell_type": "code",
   "execution_count": null,
   "id": "0bddae07",
   "metadata": {},
   "outputs": [],
   "source": [
    "people_df.applymap(str.upper)"
   ]
  },
  {
   "cell_type": "code",
   "execution_count": null,
   "id": "e521519b",
   "metadata": {},
   "outputs": [],
   "source": [
    "people_df['first'].map({'Teja':'Yuvateja'})"
   ]
  },
  {
   "cell_type": "code",
   "execution_count": 21,
   "id": "ac7c8556",
   "metadata": {},
   "outputs": [],
   "source": [
    "people_df['first'] = people_df['first'].replace({'Teja':'Yuvateja'})"
   ]
  },
  {
   "cell_type": "code",
   "execution_count": null,
   "id": "c28c82d8",
   "metadata": {},
   "outputs": [],
   "source": []
  },
  {
   "cell_type": "code",
   "execution_count": null,
   "id": "4af7ea62",
   "metadata": {},
   "outputs": [],
   "source": []
  },
  {
   "cell_type": "code",
   "execution_count": null,
   "id": "3ee9f894",
   "metadata": {},
   "outputs": [],
   "source": [
    "# apply - both\n",
    "# applymap - dataframe\n",
    "# map - series"
   ]
  },
  {
   "cell_type": "markdown",
   "id": "b88b129f",
   "metadata": {},
   "source": [
    "## Add Rows & Columns"
   ]
  },
  {
   "cell_type": "code",
   "execution_count": null,
   "id": "6dc8d927",
   "metadata": {},
   "outputs": [],
   "source": [
    "people_df['full_name'] = people_df['first']+\" \"+people_df[\"last\"]"
   ]
  },
  {
   "cell_type": "code",
   "execution_count": null,
   "id": "326416c4",
   "metadata": {},
   "outputs": [],
   "source": [
    "people_df"
   ]
  },
  {
   "cell_type": "code",
   "execution_count": null,
   "id": "1a0b8c8e",
   "metadata": {},
   "outputs": [],
   "source": [
    "# removed_fl = people_df.drop(columns=['first','last'])\n",
    "people_df.drop(columns=['first','last'],inplace=True)"
   ]
  },
  {
   "cell_type": "code",
   "execution_count": null,
   "id": "2b838575",
   "metadata": {},
   "outputs": [],
   "source": [
    "people_df[['first','last']] = people_df['full_name'].str.split(' ',expand=True)"
   ]
  },
  {
   "cell_type": "code",
   "execution_count": null,
   "id": "d8fcc1fa",
   "metadata": {},
   "outputs": [],
   "source": [
    "people_df"
   ]
  },
  {
   "cell_type": "code",
   "execution_count": null,
   "id": "b80d7389",
   "metadata": {},
   "outputs": [],
   "source": [
    "people_df = pd.concat([people_df,pd.DataFrame({'email':['dummy@dummy.com'],'first':['cool'],\"last\":[\"cool\"],\"full_name\":[\"cool cool\"]})],ignore_index=True) # axis='columns' form joining series\n",
    "people_df"
   ]
  },
  {
   "cell_type": "code",
   "execution_count": null,
   "id": "c7fabb4a",
   "metadata": {},
   "outputs": [],
   "source": [
    "people_df2 = pd.concat([people_df,people_df],ignore_index=True,sort=False)\n",
    "people_df2"
   ]
  },
  {
   "cell_type": "code",
   "execution_count": null,
   "id": "1c8c227b",
   "metadata": {},
   "outputs": [],
   "source": [
    "people_df.drop(index=3,inplace=True)"
   ]
  },
  {
   "cell_type": "code",
   "execution_count": null,
   "id": "acc73c0b",
   "metadata": {},
   "outputs": [],
   "source": [
    "people_df.drop(index=people_df[people_df['last']==\"cool\"].index,inplace=True)"
   ]
  },
  {
   "cell_type": "code",
   "execution_count": null,
   "id": "eca6c951",
   "metadata": {},
   "outputs": [],
   "source": [
    "people_df"
   ]
  },
  {
   "cell_type": "markdown",
   "id": "fa8a6034",
   "metadata": {},
   "source": [
    "## Sorting"
   ]
  },
  {
   "cell_type": "code",
   "execution_count": null,
   "id": "7f15535d",
   "metadata": {},
   "outputs": [],
   "source": [
    "df.sort_values(by=\"Name of State / UT\",ascending=False)\n",
    "# can use inplace with sort_values"
   ]
  },
  {
   "cell_type": "code",
   "execution_count": null,
   "id": "d26249b8",
   "metadata": {},
   "outputs": [],
   "source": [
    "df.sort_values(by=[\"Name of State / UT\",\"Death\"])"
   ]
  },
  {
   "cell_type": "code",
   "execution_count": null,
   "id": "6b771ca8",
   "metadata": {},
   "outputs": [],
   "source": [
    "df.sort_values(by=[\"Name of State / UT\",\"Death\"],ascending=[True,False],inplace=True)"
   ]
  },
  {
   "cell_type": "code",
   "execution_count": null,
   "id": "48e3d5fc",
   "metadata": {},
   "outputs": [],
   "source": [
    "df.sort_index()"
   ]
  },
  {
   "cell_type": "code",
   "execution_count": null,
   "id": "2f20f28f",
   "metadata": {},
   "outputs": [],
   "source": [
    "df[\"Name of State / UT\"].sort_values()\n",
    "df[\"Name of State / UT\"].sort_values().unique()"
   ]
  },
  {
   "cell_type": "code",
   "execution_count": null,
   "id": "dd43c5b8",
   "metadata": {},
   "outputs": [],
   "source": [
    "df['Death'].nlargest(10)"
   ]
  },
  {
   "cell_type": "code",
   "execution_count": null,
   "id": "497d24cd",
   "metadata": {},
   "outputs": [],
   "source": [
    "df.nlargest(10,\"Death\")\n",
    "df.nsmallest(10,\"Death\")"
   ]
  },
  {
   "cell_type": "code",
   "execution_count": null,
   "id": "92e4fc46",
   "metadata": {},
   "outputs": [],
   "source": []
  },
  {
   "cell_type": "code",
   "execution_count": null,
   "id": "6fcfdd1e",
   "metadata": {},
   "outputs": [],
   "source": []
  },
  {
   "cell_type": "code",
   "execution_count": null,
   "id": "fb9bf6ad",
   "metadata": {},
   "outputs": [],
   "source": [
    "# REPLACE, APPLY, fillna, dropna"
   ]
  },
  {
   "cell_type": "markdown",
   "id": "f417b124",
   "metadata": {},
   "source": [
    "# CASTING && Handling Missing Values"
   ]
  },
  {
   "cell_type": "code",
   "execution_count": 33,
   "id": "dbcc744e",
   "metadata": {},
   "outputs": [
    {
     "data": {
      "text/html": [
       "<div>\n",
       "<style scoped>\n",
       "    .dataframe tbody tr th:only-of-type {\n",
       "        vertical-align: middle;\n",
       "    }\n",
       "\n",
       "    .dataframe tbody tr th {\n",
       "        vertical-align: top;\n",
       "    }\n",
       "\n",
       "    .dataframe thead th {\n",
       "        text-align: right;\n",
       "    }\n",
       "</style>\n",
       "<table border=\"1\" class=\"dataframe\">\n",
       "  <thead>\n",
       "    <tr style=\"text-align: right;\">\n",
       "      <th></th>\n",
       "      <th>first</th>\n",
       "      <th>last</th>\n",
       "      <th>email</th>\n",
       "      <th>age</th>\n",
       "    </tr>\n",
       "  </thead>\n",
       "  <tbody>\n",
       "    <tr>\n",
       "      <th>0</th>\n",
       "      <td>False</td>\n",
       "      <td>False</td>\n",
       "      <td>False</td>\n",
       "      <td>False</td>\n",
       "    </tr>\n",
       "    <tr>\n",
       "      <th>1</th>\n",
       "      <td>False</td>\n",
       "      <td>False</td>\n",
       "      <td>False</td>\n",
       "      <td>False</td>\n",
       "    </tr>\n",
       "    <tr>\n",
       "      <th>2</th>\n",
       "      <td>True</td>\n",
       "      <td>False</td>\n",
       "      <td>True</td>\n",
       "      <td>False</td>\n",
       "    </tr>\n",
       "    <tr>\n",
       "      <th>3</th>\n",
       "      <td>False</td>\n",
       "      <td>False</td>\n",
       "      <td>True</td>\n",
       "      <td>True</td>\n",
       "    </tr>\n",
       "    <tr>\n",
       "      <th>4</th>\n",
       "      <td>True</td>\n",
       "      <td>False</td>\n",
       "      <td>False</td>\n",
       "      <td>True</td>\n",
       "    </tr>\n",
       "  </tbody>\n",
       "</table>\n",
       "</div>"
      ],
      "text/plain": [
       "   first   last  email    age\n",
       "0  False  False  False  False\n",
       "1  False  False  False  False\n",
       "2   True  False   True  False\n",
       "3  False  False   True   True\n",
       "4   True  False  False   True"
      ]
     },
     "execution_count": 33,
     "metadata": {},
     "output_type": "execute_result"
    }
   ],
   "source": [
    "people_df.isna() #people_df.isnull()"
   ]
  },
  {
   "cell_type": "code",
   "execution_count": 34,
   "id": "2a5ac87f",
   "metadata": {},
   "outputs": [
    {
     "data": {
      "text/plain": [
       "first    2\n",
       "last     0\n",
       "email    2\n",
       "age      2\n",
       "dtype: int64"
      ]
     },
     "execution_count": 34,
     "metadata": {},
     "output_type": "execute_result"
    }
   ],
   "source": [
    "people_df.isnull().sum()"
   ]
  },
  {
   "cell_type": "code",
   "execution_count": 35,
   "id": "9f848c92",
   "metadata": {},
   "outputs": [
    {
     "data": {
      "text/plain": [
       "6"
      ]
     },
     "execution_count": 35,
     "metadata": {},
     "output_type": "execute_result"
    }
   ],
   "source": [
    "people_df.isnull().sum().sum()"
   ]
  },
  {
   "cell_type": "code",
   "execution_count": 36,
   "id": "d1a0c9f3",
   "metadata": {},
   "outputs": [
    {
     "data": {
      "text/plain": [
       "first    0.4\n",
       "last     0.0\n",
       "email    0.4\n",
       "age      0.4\n",
       "dtype: float64"
      ]
     },
     "execution_count": 36,
     "metadata": {},
     "output_type": "execute_result"
    }
   ],
   "source": [
    "people_df.isnull().mean()"
   ]
  },
  {
   "cell_type": "code",
   "execution_count": 44,
   "id": "8887d8a5",
   "metadata": {},
   "outputs": [
    {
     "data": {
      "text/html": [
       "<div>\n",
       "<style scoped>\n",
       "    .dataframe tbody tr th:only-of-type {\n",
       "        vertical-align: middle;\n",
       "    }\n",
       "\n",
       "    .dataframe tbody tr th {\n",
       "        vertical-align: top;\n",
       "    }\n",
       "\n",
       "    .dataframe thead th {\n",
       "        text-align: right;\n",
       "    }\n",
       "</style>\n",
       "<table border=\"1\" class=\"dataframe\">\n",
       "  <thead>\n",
       "    <tr style=\"text-align: right;\">\n",
       "      <th></th>\n",
       "      <th>first</th>\n",
       "      <th>last</th>\n",
       "      <th>email</th>\n",
       "      <th>age</th>\n",
       "    </tr>\n",
       "  </thead>\n",
       "  <tbody>\n",
       "    <tr>\n",
       "      <th>0</th>\n",
       "      <td>Teja</td>\n",
       "      <td>Reddy</td>\n",
       "      <td>yuvatejareddy@gmail.com</td>\n",
       "      <td>10</td>\n",
       "    </tr>\n",
       "    <tr>\n",
       "      <th>1</th>\n",
       "      <td>Soma</td>\n",
       "      <td>Shekar</td>\n",
       "      <td>soms@gmail.com</td>\n",
       "      <td>21</td>\n",
       "    </tr>\n",
       "    <tr>\n",
       "      <th>2</th>\n",
       "      <td>NaN</td>\n",
       "      <td>Hello</td>\n",
       "      <td>NaN</td>\n",
       "      <td>45</td>\n",
       "    </tr>\n",
       "    <tr>\n",
       "      <th>3</th>\n",
       "      <td>Cool</td>\n",
       "      <td>Chill</td>\n",
       "      <td>NaN</td>\n",
       "      <td>None</td>\n",
       "    </tr>\n",
       "    <tr>\n",
       "      <th>4</th>\n",
       "      <td>NaN</td>\n",
       "      <td>dude</td>\n",
       "      <td>chill@chill.com</td>\n",
       "      <td>None</td>\n",
       "    </tr>\n",
       "  </tbody>\n",
       "</table>\n",
       "</div>"
      ],
      "text/plain": [
       "  first    last                    email   age\n",
       "0  Teja   Reddy  yuvatejareddy@gmail.com    10\n",
       "1  Soma  Shekar           soms@gmail.com    21\n",
       "2   NaN   Hello                      NaN    45\n",
       "3  Cool   Chill                      NaN  None\n",
       "4   NaN    dude          chill@chill.com  None"
      ]
     },
     "execution_count": 44,
     "metadata": {},
     "output_type": "execute_result"
    }
   ],
   "source": [
    "people_df.dropna()\n",
    "people_df.dropna(axis='index',how='any')\n",
    "people_df.dropna(axis='columns',how='any')\n",
    "# axis = index | columns, how = any | all\n",
    "# axis 0 |1\n",
    "people_df"
   ]
  },
  {
   "cell_type": "code",
   "execution_count": 47,
   "id": "d6c78f91",
   "metadata": {
    "scrolled": true
   },
   "outputs": [
    {
     "data": {
      "text/html": [
       "<div>\n",
       "<style scoped>\n",
       "    .dataframe tbody tr th:only-of-type {\n",
       "        vertical-align: middle;\n",
       "    }\n",
       "\n",
       "    .dataframe tbody tr th {\n",
       "        vertical-align: top;\n",
       "    }\n",
       "\n",
       "    .dataframe thead th {\n",
       "        text-align: right;\n",
       "    }\n",
       "</style>\n",
       "<table border=\"1\" class=\"dataframe\">\n",
       "  <thead>\n",
       "    <tr style=\"text-align: right;\">\n",
       "      <th></th>\n",
       "      <th>first</th>\n",
       "      <th>last</th>\n",
       "      <th>email</th>\n",
       "      <th>age</th>\n",
       "    </tr>\n",
       "  </thead>\n",
       "  <tbody>\n",
       "    <tr>\n",
       "      <th>0</th>\n",
       "      <td>Teja</td>\n",
       "      <td>Reddy</td>\n",
       "      <td>yuvatejareddy@gmail.com</td>\n",
       "      <td>10</td>\n",
       "    </tr>\n",
       "    <tr>\n",
       "      <th>1</th>\n",
       "      <td>Soma</td>\n",
       "      <td>Shekar</td>\n",
       "      <td>soms@gmail.com</td>\n",
       "      <td>21</td>\n",
       "    </tr>\n",
       "    <tr>\n",
       "      <th>2</th>\n",
       "      <td>NaN</td>\n",
       "      <td>Hello</td>\n",
       "      <td>NaN</td>\n",
       "      <td>45</td>\n",
       "    </tr>\n",
       "    <tr>\n",
       "      <th>3</th>\n",
       "      <td>Cool</td>\n",
       "      <td>Chill</td>\n",
       "      <td>NaN</td>\n",
       "      <td>None</td>\n",
       "    </tr>\n",
       "    <tr>\n",
       "      <th>4</th>\n",
       "      <td>NaN</td>\n",
       "      <td>dude</td>\n",
       "      <td>chill@chill.com</td>\n",
       "      <td>None</td>\n",
       "    </tr>\n",
       "  </tbody>\n",
       "</table>\n",
       "</div>"
      ],
      "text/plain": [
       "  first    last                    email   age\n",
       "0  Teja   Reddy  yuvatejareddy@gmail.com    10\n",
       "1  Soma  Shekar           soms@gmail.com    21\n",
       "2   NaN   Hello                      NaN    45\n",
       "3  Cool   Chill                      NaN  None\n",
       "4   NaN    dude          chill@chill.com  None"
      ]
     },
     "execution_count": 47,
     "metadata": {},
     "output_type": "execute_result"
    }
   ],
   "source": [
    "people_df.dropna(axis='index',how='all',subset=['email'])\n",
    "people_df.dropna(axis='index',how='all',subset=['last','email'])"
   ]
  },
  {
   "cell_type": "code",
   "execution_count": null,
   "id": "dda98f0e",
   "metadata": {},
   "outputs": [],
   "source": [
    "people_df.replace('NA',np.nan,inplace=True)\n",
    "people_df.replace('Missing',np.nan,inplace=True)\n",
    "df.replace('0#','0',inplace=True)\n",
    "people_df"
   ]
  },
  {
   "cell_type": "code",
   "execution_count": 40,
   "id": "0edd6d65",
   "metadata": {},
   "outputs": [
    {
     "data": {
      "text/html": [
       "<div>\n",
       "<style scoped>\n",
       "    .dataframe tbody tr th:only-of-type {\n",
       "        vertical-align: middle;\n",
       "    }\n",
       "\n",
       "    .dataframe tbody tr th {\n",
       "        vertical-align: top;\n",
       "    }\n",
       "\n",
       "    .dataframe thead th {\n",
       "        text-align: right;\n",
       "    }\n",
       "</style>\n",
       "<table border=\"1\" class=\"dataframe\">\n",
       "  <thead>\n",
       "    <tr style=\"text-align: right;\">\n",
       "      <th></th>\n",
       "      <th>first</th>\n",
       "      <th>last</th>\n",
       "      <th>email</th>\n",
       "      <th>age</th>\n",
       "    </tr>\n",
       "  </thead>\n",
       "  <tbody>\n",
       "    <tr>\n",
       "      <th>0</th>\n",
       "      <td>Teja</td>\n",
       "      <td>Reddy</td>\n",
       "      <td>yuvatejareddy@gmail.com</td>\n",
       "      <td>10</td>\n",
       "    </tr>\n",
       "    <tr>\n",
       "      <th>1</th>\n",
       "      <td>Soma</td>\n",
       "      <td>Shekar</td>\n",
       "      <td>soms@gmail.com</td>\n",
       "      <td>21</td>\n",
       "    </tr>\n",
       "    <tr>\n",
       "      <th>2</th>\n",
       "      <td>0</td>\n",
       "      <td>Hello</td>\n",
       "      <td>0</td>\n",
       "      <td>45</td>\n",
       "    </tr>\n",
       "    <tr>\n",
       "      <th>3</th>\n",
       "      <td>Cool</td>\n",
       "      <td>Chill</td>\n",
       "      <td>0</td>\n",
       "      <td>0</td>\n",
       "    </tr>\n",
       "    <tr>\n",
       "      <th>4</th>\n",
       "      <td>0</td>\n",
       "      <td>dude</td>\n",
       "      <td>chill@chill.com</td>\n",
       "      <td>0</td>\n",
       "    </tr>\n",
       "  </tbody>\n",
       "</table>\n",
       "</div>"
      ],
      "text/plain": [
       "  first    last                    email age\n",
       "0  Teja   Reddy  yuvatejareddy@gmail.com  10\n",
       "1  Soma  Shekar           soms@gmail.com  21\n",
       "2     0   Hello                        0  45\n",
       "3  Cool   Chill                        0   0\n",
       "4     0    dude          chill@chill.com   0"
      ]
     },
     "execution_count": 40,
     "metadata": {},
     "output_type": "execute_result"
    }
   ],
   "source": [
    "people_df.fillna(\"MISSING\")\n",
    "people_df.fillna(0) #inplace=True "
   ]
  },
  {
   "cell_type": "code",
   "execution_count": 43,
   "id": "a8b7d992",
   "metadata": {},
   "outputs": [
    {
     "data": {
      "text/html": [
       "<div>\n",
       "<style scoped>\n",
       "    .dataframe tbody tr th:only-of-type {\n",
       "        vertical-align: middle;\n",
       "    }\n",
       "\n",
       "    .dataframe tbody tr th {\n",
       "        vertical-align: top;\n",
       "    }\n",
       "\n",
       "    .dataframe thead th {\n",
       "        text-align: right;\n",
       "    }\n",
       "</style>\n",
       "<table border=\"1\" class=\"dataframe\">\n",
       "  <thead>\n",
       "    <tr style=\"text-align: right;\">\n",
       "      <th></th>\n",
       "      <th>first</th>\n",
       "      <th>last</th>\n",
       "      <th>email</th>\n",
       "      <th>age</th>\n",
       "    </tr>\n",
       "  </thead>\n",
       "  <tbody>\n",
       "    <tr>\n",
       "      <th>0</th>\n",
       "      <td>Teja</td>\n",
       "      <td>Reddy</td>\n",
       "      <td>yuvatejareddy@gmail.com</td>\n",
       "      <td>10</td>\n",
       "    </tr>\n",
       "    <tr>\n",
       "      <th>1</th>\n",
       "      <td>Soma</td>\n",
       "      <td>Shekar</td>\n",
       "      <td>soms@gmail.com</td>\n",
       "      <td>21</td>\n",
       "    </tr>\n",
       "    <tr>\n",
       "      <th>2</th>\n",
       "      <td>Hello</td>\n",
       "      <td>Hello</td>\n",
       "      <td>45</td>\n",
       "      <td>45</td>\n",
       "    </tr>\n",
       "    <tr>\n",
       "      <th>3</th>\n",
       "      <td>Cool</td>\n",
       "      <td>Chill</td>\n",
       "      <td>None</td>\n",
       "      <td>None</td>\n",
       "    </tr>\n",
       "    <tr>\n",
       "      <th>4</th>\n",
       "      <td>dude</td>\n",
       "      <td>dude</td>\n",
       "      <td>chill@chill.com</td>\n",
       "      <td>None</td>\n",
       "    </tr>\n",
       "  </tbody>\n",
       "</table>\n",
       "</div>"
      ],
      "text/plain": [
       "   first    last                    email   age\n",
       "0   Teja   Reddy  yuvatejareddy@gmail.com    10\n",
       "1   Soma  Shekar           soms@gmail.com    21\n",
       "2  Hello   Hello                       45    45\n",
       "3   Cool   Chill                     None  None\n",
       "4   dude    dude          chill@chill.com  None"
      ]
     },
     "execution_count": 43,
     "metadata": {},
     "output_type": "execute_result"
    }
   ],
   "source": [
    "# We replace NaN values with the previous value in the column\n",
    "people_df.fillna(method = 'ffill', axis = 0)\n",
    "# We replace NaN values with the previous value in the row\n",
    "people_df.fillna(method = 'ffill', axis = 1)\n",
    "# We replace NaN values with the next value in the column\n",
    "people_df.fillna(method = 'backfill', axis = 0)\n",
    "# We replace NaN values with the next value in the row\n",
    "people_df.fillna(method = 'backfill', axis = 1)\n",
    "#people_df.interpolate(method=\"linear\",axis=0)  "
   ]
  },
  {
   "cell_type": "code",
   "execution_count": null,
   "id": "dec5e8c1",
   "metadata": {},
   "outputs": [],
   "source": [
    "people_df.dtypes\n",
    "people_df[\"age\"] = people_df['age'].astype('float64')\n",
    "df[\"Death\"] = df[\"Death\"].astype(int)"
   ]
  },
  {
   "cell_type": "markdown",
   "id": "cf19e60e",
   "metadata": {},
   "source": [
    "## Grouping && Aggregation"
   ]
  },
  {
   "cell_type": "code",
   "execution_count": null,
   "id": "9127b29c",
   "metadata": {},
   "outputs": [],
   "source": [
    "print(df.dtypes)"
   ]
  },
  {
   "cell_type": "code",
   "execution_count": 52,
   "id": "92c6fc73",
   "metadata": {},
   "outputs": [
    {
     "data": {
      "text/plain": [
       "count     4692\n",
       "unique     839\n",
       "top          0\n",
       "freq      1460\n",
       "Name: Death, dtype: object"
      ]
     },
     "execution_count": 52,
     "metadata": {},
     "output_type": "execute_result"
    }
   ],
   "source": [
    "df.describe()\n",
    "df[\"Death\"].describe()\n",
    "#max(), .min(), .mean()\n",
    "# df.corr()"
   ]
  },
  {
   "cell_type": "code",
   "execution_count": 50,
   "id": "381e7ef2",
   "metadata": {},
   "outputs": [
    {
     "data": {
      "text/plain": [
       "Kerala                                      186\n",
       "Delhi                                       154\n",
       "Rajasthan                                   152\n",
       "Uttar Pradesh                               152\n",
       "Haryana                                     152\n",
       "Tamil Nadu                                  149\n",
       "Punjab                                      147\n",
       "Karnataka                                   147\n",
       "Maharashtra                                 147\n",
       "Andhra Pradesh                              144\n",
       "Uttarakhand                                 141\n",
       "Odisha                                      140\n",
       "Puducherry                                  138\n",
       "Chhattisgarh                                137\n",
       "Gujarat                                     136\n",
       "Ladakh                                      135\n",
       "Jammu and Kashmir                           135\n",
       "Himachal Pradesh                            135\n",
       "Madhya Pradesh                              135\n",
       "Chandigarh                                  135\n",
       "Bihar                                       134\n",
       "Manipur                                     132\n",
       "Mizoram                                     131\n",
       "Goa                                         130\n",
       "Andaman and Nicobar Islands                 130\n",
       "West Bengal                                 128\n",
       "Jharkhand                                   124\n",
       "Assam                                       124\n",
       "Arunachal Pradesh                           122\n",
       "Tripura                                     118\n",
       "Meghalaya                                   111\n",
       "Telengana                                   102\n",
       "Dadra and Nagar Haveli and Daman and Diu     89\n",
       "Sikkim                                       71\n",
       "Nagaland                                     69\n",
       "Telangana                                    51\n",
       "Union Territory of Ladakh                    14\n",
       "Union Territory of Jammu and Kashmir         12\n",
       "Union Territory of Chandigarh                 2\n",
       "Telangana***                                  1\n",
       "Name: Name of State / UT, dtype: int64"
      ]
     },
     "execution_count": 50,
     "metadata": {},
     "output_type": "execute_result"
    }
   ],
   "source": [
    "df[\"Name of State / UT\"].value_counts() #normalize=True"
   ]
  },
  {
   "cell_type": "code",
   "execution_count": null,
   "id": "143869e5",
   "metadata": {},
   "outputs": [],
   "source": [
    "#Groupby = split + apply function + combine results\n",
    "state_grp = df.groupby([\"Name of State / UT\"])"
   ]
  },
  {
   "cell_type": "code",
   "execution_count": null,
   "id": "865913f1",
   "metadata": {},
   "outputs": [],
   "source": [
    "state_grp.get_group('Sikkim')[\"Death\"].value_counts()"
   ]
  },
  {
   "cell_type": "code",
   "execution_count": null,
   "id": "6d6fd771",
   "metadata": {},
   "outputs": [],
   "source": [
    "state_grp['Death'].value_counts().head(30)"
   ]
  },
  {
   "cell_type": "code",
   "execution_count": null,
   "id": "3c14301e",
   "metadata": {},
   "outputs": [],
   "source": [
    "state_grp['Death'].value_counts().loc[\"Sikkim\"]"
   ]
  },
  {
   "cell_type": "code",
   "execution_count": null,
   "id": "61f80f17",
   "metadata": {},
   "outputs": [],
   "source": [
    "state_grp['Death'].mean()\n",
    "state_grp['Death'].median().loc['Telangana']"
   ]
  },
  {
   "cell_type": "code",
   "execution_count": null,
   "id": "0688848a",
   "metadata": {},
   "outputs": [],
   "source": [
    "state_grp['Death'].agg(['mean','median'])"
   ]
  },
  {
   "cell_type": "code",
   "execution_count": null,
   "id": "34d25a85",
   "metadata": {},
   "outputs": [],
   "source": [
    "state_grp['Death'].agg(['mean','median']).loc[\"Goa\"]"
   ]
  },
  {
   "cell_type": "code",
   "execution_count": null,
   "id": "b7e03aa4",
   "metadata": {},
   "outputs": [],
   "source": [
    "df.loc[df[\"Name of State / UT\"]==\"Andhra Pradesh\"][\"Death\"].sum()"
   ]
  },
  {
   "cell_type": "code",
   "execution_count": null,
   "id": "f21d3e94",
   "metadata": {},
   "outputs": [],
   "source": [
    "state_death = state_grp['Death'].apply(sum)\n",
    "state_new_cases = state_grp['Total Confirmed cases'].apply(sum)\n",
    "state_df = pd.concat([state_death,state_new_cases],sort=False,axis='columns')\n",
    "state_df[\"death_percent\"] = state_df[\"Death\"]/state_df[\"Total Confirmed cases\"] * 100\n",
    "state_df.sort_values(by=\"death_percent\",ascending=False)"
   ]
  },
  {
   "cell_type": "markdown",
   "id": "cdd40a4d",
   "metadata": {},
   "source": [
    "## Dates and Time series"
   ]
  },
  {
   "cell_type": "code",
   "execution_count": 3,
   "id": "db2f68f5",
   "metadata": {},
   "outputs": [],
   "source": [
    "eth_df = pd.read_csv('eth.csv')"
   ]
  },
  {
   "cell_type": "code",
   "execution_count": 9,
   "id": "b43b2998",
   "metadata": {},
   "outputs": [
    {
     "data": {
      "text/html": [
       "<div>\n",
       "<style scoped>\n",
       "    .dataframe tbody tr th:only-of-type {\n",
       "        vertical-align: middle;\n",
       "    }\n",
       "\n",
       "    .dataframe tbody tr th {\n",
       "        vertical-align: top;\n",
       "    }\n",
       "\n",
       "    .dataframe thead th {\n",
       "        text-align: right;\n",
       "    }\n",
       "</style>\n",
       "<table border=\"1\" class=\"dataframe\">\n",
       "  <thead>\n",
       "    <tr style=\"text-align: right;\">\n",
       "      <th></th>\n",
       "      <th>Date</th>\n",
       "      <th>Symbol</th>\n",
       "      <th>Open</th>\n",
       "      <th>High</th>\n",
       "      <th>Low</th>\n",
       "      <th>Close</th>\n",
       "      <th>Volume</th>\n",
       "    </tr>\n",
       "  </thead>\n",
       "  <tbody>\n",
       "    <tr>\n",
       "      <th>0</th>\n",
       "      <td>2020-03-13 20:00:00</td>\n",
       "      <td>ETHUSD</td>\n",
       "      <td>129.94</td>\n",
       "      <td>131.82</td>\n",
       "      <td>126.87</td>\n",
       "      <td>128.71</td>\n",
       "      <td>1940673.93</td>\n",
       "    </tr>\n",
       "    <tr>\n",
       "      <th>1</th>\n",
       "      <td>2020-03-13 19:00:00</td>\n",
       "      <td>ETHUSD</td>\n",
       "      <td>119.51</td>\n",
       "      <td>132.02</td>\n",
       "      <td>117.10</td>\n",
       "      <td>129.94</td>\n",
       "      <td>7579741.09</td>\n",
       "    </tr>\n",
       "    <tr>\n",
       "      <th>2</th>\n",
       "      <td>2020-03-13 18:00:00</td>\n",
       "      <td>ETHUSD</td>\n",
       "      <td>124.47</td>\n",
       "      <td>124.85</td>\n",
       "      <td>115.50</td>\n",
       "      <td>119.51</td>\n",
       "      <td>4898735.81</td>\n",
       "    </tr>\n",
       "    <tr>\n",
       "      <th>3</th>\n",
       "      <td>2020-03-13 17:00:00</td>\n",
       "      <td>ETHUSD</td>\n",
       "      <td>124.08</td>\n",
       "      <td>127.42</td>\n",
       "      <td>121.63</td>\n",
       "      <td>124.47</td>\n",
       "      <td>2753450.92</td>\n",
       "    </tr>\n",
       "    <tr>\n",
       "      <th>4</th>\n",
       "      <td>2020-03-13 16:00:00</td>\n",
       "      <td>ETHUSD</td>\n",
       "      <td>124.85</td>\n",
       "      <td>129.51</td>\n",
       "      <td>120.17</td>\n",
       "      <td>124.08</td>\n",
       "      <td>4461424.71</td>\n",
       "    </tr>\n",
       "    <tr>\n",
       "      <th>...</th>\n",
       "      <td>...</td>\n",
       "      <td>...</td>\n",
       "      <td>...</td>\n",
       "      <td>...</td>\n",
       "      <td>...</td>\n",
       "      <td>...</td>\n",
       "      <td>...</td>\n",
       "    </tr>\n",
       "    <tr>\n",
       "      <th>23669</th>\n",
       "      <td>2017-07-01 15:00:00</td>\n",
       "      <td>ETHUSD</td>\n",
       "      <td>265.74</td>\n",
       "      <td>272.74</td>\n",
       "      <td>265.00</td>\n",
       "      <td>272.57</td>\n",
       "      <td>1500282.55</td>\n",
       "    </tr>\n",
       "    <tr>\n",
       "      <th>23670</th>\n",
       "      <td>2017-07-01 14:00:00</td>\n",
       "      <td>ETHUSD</td>\n",
       "      <td>268.79</td>\n",
       "      <td>269.90</td>\n",
       "      <td>265.00</td>\n",
       "      <td>265.74</td>\n",
       "      <td>1702536.85</td>\n",
       "    </tr>\n",
       "    <tr>\n",
       "      <th>23671</th>\n",
       "      <td>2017-07-01 13:00:00</td>\n",
       "      <td>ETHUSD</td>\n",
       "      <td>274.83</td>\n",
       "      <td>274.93</td>\n",
       "      <td>265.00</td>\n",
       "      <td>268.79</td>\n",
       "      <td>3010787.99</td>\n",
       "    </tr>\n",
       "    <tr>\n",
       "      <th>23672</th>\n",
       "      <td>2017-07-01 12:00:00</td>\n",
       "      <td>ETHUSD</td>\n",
       "      <td>275.01</td>\n",
       "      <td>275.01</td>\n",
       "      <td>271.00</td>\n",
       "      <td>274.83</td>\n",
       "      <td>824362.87</td>\n",
       "    </tr>\n",
       "    <tr>\n",
       "      <th>23673</th>\n",
       "      <td>2017-07-01 11:00:00</td>\n",
       "      <td>ETHUSD</td>\n",
       "      <td>279.98</td>\n",
       "      <td>279.99</td>\n",
       "      <td>272.10</td>\n",
       "      <td>275.01</td>\n",
       "      <td>679358.87</td>\n",
       "    </tr>\n",
       "  </tbody>\n",
       "</table>\n",
       "<p>23674 rows × 7 columns</p>\n",
       "</div>"
      ],
      "text/plain": [
       "                     Date  Symbol    Open    High     Low   Close      Volume\n",
       "0     2020-03-13 20:00:00  ETHUSD  129.94  131.82  126.87  128.71  1940673.93\n",
       "1     2020-03-13 19:00:00  ETHUSD  119.51  132.02  117.10  129.94  7579741.09\n",
       "2     2020-03-13 18:00:00  ETHUSD  124.47  124.85  115.50  119.51  4898735.81\n",
       "3     2020-03-13 17:00:00  ETHUSD  124.08  127.42  121.63  124.47  2753450.92\n",
       "4     2020-03-13 16:00:00  ETHUSD  124.85  129.51  120.17  124.08  4461424.71\n",
       "...                   ...     ...     ...     ...     ...     ...         ...\n",
       "23669 2017-07-01 15:00:00  ETHUSD  265.74  272.74  265.00  272.57  1500282.55\n",
       "23670 2017-07-01 14:00:00  ETHUSD  268.79  269.90  265.00  265.74  1702536.85\n",
       "23671 2017-07-01 13:00:00  ETHUSD  274.83  274.93  265.00  268.79  3010787.99\n",
       "23672 2017-07-01 12:00:00  ETHUSD  275.01  275.01  271.00  274.83   824362.87\n",
       "23673 2017-07-01 11:00:00  ETHUSD  279.98  279.99  272.10  275.01   679358.87\n",
       "\n",
       "[23674 rows x 7 columns]"
      ]
     },
     "execution_count": 9,
     "metadata": {},
     "output_type": "execute_result"
    }
   ],
   "source": [
    "eth_df[\"Date\"] = pd.to_datetime(eth_df[\"Date\"],format=\"%Y-%m-%d %I-%p\")\n",
    "eth_df"
   ]
  },
  {
   "cell_type": "code",
   "execution_count": 10,
   "id": "96d44865",
   "metadata": {},
   "outputs": [
    {
     "data": {
      "text/plain": [
       "'Friday'"
      ]
     },
     "execution_count": 10,
     "metadata": {},
     "output_type": "execute_result"
    }
   ],
   "source": [
    "eth_df.loc[0,\"Date\"].day_name()"
   ]
  },
  {
   "cell_type": "code",
   "execution_count": 13,
   "id": "ee59fcbb",
   "metadata": {},
   "outputs": [
    {
     "data": {
      "text/plain": [
       "['__add__',\n",
       " '__class__',\n",
       " '__delattr__',\n",
       " '__dir__',\n",
       " '__doc__',\n",
       " '__eq__',\n",
       " '__format__',\n",
       " '__ge__',\n",
       " '__getattribute__',\n",
       " '__getstate__',\n",
       " '__gt__',\n",
       " '__hash__',\n",
       " '__init__',\n",
       " '__init_subclass__',\n",
       " '__le__',\n",
       " '__lt__',\n",
       " '__ne__',\n",
       " '__new__',\n",
       " '__radd__',\n",
       " '__reduce__',\n",
       " '__reduce_ex__',\n",
       " '__repr__',\n",
       " '__rsub__',\n",
       " '__setattr__',\n",
       " '__sizeof__',\n",
       " '__str__',\n",
       " '__sub__',\n",
       " '__subclasshook__',\n",
       " 'astimezone',\n",
       " 'combine',\n",
       " 'ctime',\n",
       " 'date',\n",
       " 'day',\n",
       " 'dst',\n",
       " 'fold',\n",
       " 'fromisocalendar',\n",
       " 'fromisoformat',\n",
       " 'fromordinal',\n",
       " 'fromtimestamp',\n",
       " 'hour',\n",
       " 'isocalendar',\n",
       " 'isoformat',\n",
       " 'isoweekday',\n",
       " 'max',\n",
       " 'microsecond',\n",
       " 'min',\n",
       " 'minute',\n",
       " 'month',\n",
       " 'now',\n",
       " 'replace',\n",
       " 'resolution',\n",
       " 'second',\n",
       " 'strftime',\n",
       " 'strptime',\n",
       " 'time',\n",
       " 'timestamp',\n",
       " 'timetuple',\n",
       " 'timetz',\n",
       " 'today',\n",
       " 'toordinal',\n",
       " 'tzinfo',\n",
       " 'tzname',\n",
       " 'utcfromtimestamp',\n",
       " 'utcnow',\n",
       " 'utcoffset',\n",
       " 'utctimetuple',\n",
       " 'weekday',\n",
       " 'year']"
      ]
     },
     "execution_count": 13,
     "metadata": {},
     "output_type": "execute_result"
    }
   ],
   "source": [
    "from datetime import datetime\n",
    "dir(datetime)"
   ]
  },
  {
   "cell_type": "code",
   "execution_count": null,
   "id": "26a21dc3",
   "metadata": {},
   "outputs": [],
   "source": []
  },
  {
   "cell_type": "code",
   "execution_count": null,
   "id": "bed19e6d",
   "metadata": {},
   "outputs": [],
   "source": []
  },
  {
   "cell_type": "code",
   "execution_count": null,
   "id": "6367173d",
   "metadata": {},
   "outputs": [],
   "source": []
  },
  {
   "cell_type": "code",
   "execution_count": null,
   "id": "564d4f03",
   "metadata": {},
   "outputs": [],
   "source": []
  },
  {
   "cell_type": "code",
   "execution_count": null,
   "id": "a6f79f45",
   "metadata": {},
   "outputs": [],
   "source": []
  },
  {
   "cell_type": "code",
   "execution_count": null,
   "id": "0ea9d1d1",
   "metadata": {},
   "outputs": [],
   "source": []
  },
  {
   "cell_type": "markdown",
   "id": "4c59974a",
   "metadata": {},
   "source": [
    "## Writing to files"
   ]
  },
  {
   "cell_type": "code",
   "execution_count": null,
   "id": "52569d64",
   "metadata": {},
   "outputs": [],
   "source": [
    "df[(df[\"Name of State / UT\"]==\"Andhra Pradesh\")].to_csv(\"andhra_pradesh.csv\",index=False)"
   ]
  },
  {
   "cell_type": "code",
   "execution_count": null,
   "id": "8d0e8513",
   "metadata": {},
   "outputs": [],
   "source": [
    "df[(df[\"Name of State / UT\"]==\"Andhra Pradesh\")].to_csv(\"andhra_pradesh.tsv\",sep=\"\\t\")"
   ]
  },
  {
   "cell_type": "code",
   "execution_count": null,
   "id": "feba8a39",
   "metadata": {},
   "outputs": [],
   "source": [
    "# xlwt openpyxlm xlrd\n",
    "df[(df[\"Name of State / UT\"]==\"Andhra Pradesh\")].to_excel(\"andhra_pradesh.xlsx\")"
   ]
  },
  {
   "cell_type": "code",
   "execution_count": null,
   "id": "ab4fd5ff",
   "metadata": {},
   "outputs": [],
   "source": [
    "df[(df[\"Name of State / UT\"]==\"Andhra Pradesh\")].to_json(\"andhra_pradesh.json\",orient='records',lines=True)"
   ]
  },
  {
   "cell_type": "code",
   "execution_count": null,
   "id": "fc07957c",
   "metadata": {},
   "outputs": [],
   "source": [
    "#SQLAlchemy psycopg2-binary\n",
    "df.to_sql('table_name',conn,if_exist='replace')\n",
    "pd.read_sql('table_name',conn,index_col=\"1st row, 1st col value\")\n",
    "pd.read_sql_query('slq query',conn,index_col=\"1st row, 1st col value\")"
   ]
  },
  {
   "cell_type": "code",
   "execution_count": null,
   "id": "e433f713",
   "metadata": {},
   "outputs": [],
   "source": [
    "help(df.any)"
   ]
  },
  {
   "cell_type": "code",
   "execution_count": null,
   "id": "316f59fa",
   "metadata": {},
   "outputs": [],
   "source": [
    "# dropna, isnac, transform, drop_duplicates\n",
    "# pd.to_numeric()\n",
    "# series.astype('type')"
   ]
  },
  {
   "cell_type": "code",
   "execution_count": null,
   "id": "f4bfcd43",
   "metadata": {},
   "outputs": [],
   "source": []
  },
  {
   "cell_type": "code",
   "execution_count": 25,
   "id": "9bd4c3a1",
   "metadata": {},
   "outputs": [
    {
     "ename": "TypeError",
     "evalue": "'>' not supported between instances of 'str' and 'int'",
     "output_type": "error",
     "traceback": [
      "\u001b[1;31m---------------------------------------------------------------------------\u001b[0m",
      "\u001b[1;31mTypeError\u001b[0m                                 Traceback (most recent call last)",
      "Cell \u001b[1;32mIn[25], line 1\u001b[0m\n\u001b[1;32m----> 1\u001b[0m df\u001b[38;5;241m.\u001b[39mquery(\u001b[38;5;124m\"\u001b[39m\u001b[38;5;124mDeath > 100\u001b[39m\u001b[38;5;124m\"\u001b[39m)\n",
      "File \u001b[1;32mC:\\ProgramData\\anaconda3\\Lib\\site-packages\\pandas\\util\\_decorators.py:331\u001b[0m, in \u001b[0;36mdeprecate_nonkeyword_arguments.<locals>.decorate.<locals>.wrapper\u001b[1;34m(*args, **kwargs)\u001b[0m\n\u001b[0;32m    325\u001b[0m \u001b[38;5;28;01mif\u001b[39;00m \u001b[38;5;28mlen\u001b[39m(args) \u001b[38;5;241m>\u001b[39m num_allow_args:\n\u001b[0;32m    326\u001b[0m     warnings\u001b[38;5;241m.\u001b[39mwarn(\n\u001b[0;32m    327\u001b[0m         msg\u001b[38;5;241m.\u001b[39mformat(arguments\u001b[38;5;241m=\u001b[39m_format_argument_list(allow_args)),\n\u001b[0;32m    328\u001b[0m         \u001b[38;5;167;01mFutureWarning\u001b[39;00m,\n\u001b[0;32m    329\u001b[0m         stacklevel\u001b[38;5;241m=\u001b[39mfind_stack_level(),\n\u001b[0;32m    330\u001b[0m     )\n\u001b[1;32m--> 331\u001b[0m \u001b[38;5;28;01mreturn\u001b[39;00m func(\u001b[38;5;241m*\u001b[39margs, \u001b[38;5;241m*\u001b[39m\u001b[38;5;241m*\u001b[39mkwargs)\n",
      "File \u001b[1;32mC:\\ProgramData\\anaconda3\\Lib\\site-packages\\pandas\\core\\frame.py:4474\u001b[0m, in \u001b[0;36mDataFrame.query\u001b[1;34m(self, expr, inplace, **kwargs)\u001b[0m\n\u001b[0;32m   4472\u001b[0m kwargs[\u001b[38;5;124m\"\u001b[39m\u001b[38;5;124mlevel\u001b[39m\u001b[38;5;124m\"\u001b[39m] \u001b[38;5;241m=\u001b[39m kwargs\u001b[38;5;241m.\u001b[39mpop(\u001b[38;5;124m\"\u001b[39m\u001b[38;5;124mlevel\u001b[39m\u001b[38;5;124m\"\u001b[39m, \u001b[38;5;241m0\u001b[39m) \u001b[38;5;241m+\u001b[39m \u001b[38;5;241m2\u001b[39m\n\u001b[0;32m   4473\u001b[0m kwargs[\u001b[38;5;124m\"\u001b[39m\u001b[38;5;124mtarget\u001b[39m\u001b[38;5;124m\"\u001b[39m] \u001b[38;5;241m=\u001b[39m \u001b[38;5;28;01mNone\u001b[39;00m\n\u001b[1;32m-> 4474\u001b[0m res \u001b[38;5;241m=\u001b[39m \u001b[38;5;28mself\u001b[39m\u001b[38;5;241m.\u001b[39meval(expr, \u001b[38;5;241m*\u001b[39m\u001b[38;5;241m*\u001b[39mkwargs)\n\u001b[0;32m   4476\u001b[0m \u001b[38;5;28;01mtry\u001b[39;00m:\n\u001b[0;32m   4477\u001b[0m     result \u001b[38;5;241m=\u001b[39m \u001b[38;5;28mself\u001b[39m\u001b[38;5;241m.\u001b[39mloc[res]\n",
      "File \u001b[1;32mC:\\ProgramData\\anaconda3\\Lib\\site-packages\\pandas\\util\\_decorators.py:331\u001b[0m, in \u001b[0;36mdeprecate_nonkeyword_arguments.<locals>.decorate.<locals>.wrapper\u001b[1;34m(*args, **kwargs)\u001b[0m\n\u001b[0;32m    325\u001b[0m \u001b[38;5;28;01mif\u001b[39;00m \u001b[38;5;28mlen\u001b[39m(args) \u001b[38;5;241m>\u001b[39m num_allow_args:\n\u001b[0;32m    326\u001b[0m     warnings\u001b[38;5;241m.\u001b[39mwarn(\n\u001b[0;32m    327\u001b[0m         msg\u001b[38;5;241m.\u001b[39mformat(arguments\u001b[38;5;241m=\u001b[39m_format_argument_list(allow_args)),\n\u001b[0;32m    328\u001b[0m         \u001b[38;5;167;01mFutureWarning\u001b[39;00m,\n\u001b[0;32m    329\u001b[0m         stacklevel\u001b[38;5;241m=\u001b[39mfind_stack_level(),\n\u001b[0;32m    330\u001b[0m     )\n\u001b[1;32m--> 331\u001b[0m \u001b[38;5;28;01mreturn\u001b[39;00m func(\u001b[38;5;241m*\u001b[39margs, \u001b[38;5;241m*\u001b[39m\u001b[38;5;241m*\u001b[39mkwargs)\n",
      "File \u001b[1;32mC:\\ProgramData\\anaconda3\\Lib\\site-packages\\pandas\\core\\frame.py:4612\u001b[0m, in \u001b[0;36mDataFrame.eval\u001b[1;34m(self, expr, inplace, **kwargs)\u001b[0m\n\u001b[0;32m   4609\u001b[0m     kwargs[\u001b[38;5;124m\"\u001b[39m\u001b[38;5;124mtarget\u001b[39m\u001b[38;5;124m\"\u001b[39m] \u001b[38;5;241m=\u001b[39m \u001b[38;5;28mself\u001b[39m\n\u001b[0;32m   4610\u001b[0m kwargs[\u001b[38;5;124m\"\u001b[39m\u001b[38;5;124mresolvers\u001b[39m\u001b[38;5;124m\"\u001b[39m] \u001b[38;5;241m=\u001b[39m \u001b[38;5;28mtuple\u001b[39m(kwargs\u001b[38;5;241m.\u001b[39mget(\u001b[38;5;124m\"\u001b[39m\u001b[38;5;124mresolvers\u001b[39m\u001b[38;5;124m\"\u001b[39m, ())) \u001b[38;5;241m+\u001b[39m resolvers\n\u001b[1;32m-> 4612\u001b[0m \u001b[38;5;28;01mreturn\u001b[39;00m _eval(expr, inplace\u001b[38;5;241m=\u001b[39minplace, \u001b[38;5;241m*\u001b[39m\u001b[38;5;241m*\u001b[39mkwargs)\n",
      "File \u001b[1;32mC:\\ProgramData\\anaconda3\\Lib\\site-packages\\pandas\\core\\computation\\eval.py:353\u001b[0m, in \u001b[0;36meval\u001b[1;34m(expr, parser, engine, truediv, local_dict, global_dict, resolvers, level, target, inplace)\u001b[0m\n\u001b[0;32m    344\u001b[0m \u001b[38;5;66;03m# get our (possibly passed-in) scope\u001b[39;00m\n\u001b[0;32m    345\u001b[0m env \u001b[38;5;241m=\u001b[39m ensure_scope(\n\u001b[0;32m    346\u001b[0m     level \u001b[38;5;241m+\u001b[39m \u001b[38;5;241m1\u001b[39m,\n\u001b[0;32m    347\u001b[0m     global_dict\u001b[38;5;241m=\u001b[39mglobal_dict,\n\u001b[1;32m   (...)\u001b[0m\n\u001b[0;32m    350\u001b[0m     target\u001b[38;5;241m=\u001b[39mtarget,\n\u001b[0;32m    351\u001b[0m )\n\u001b[1;32m--> 353\u001b[0m parsed_expr \u001b[38;5;241m=\u001b[39m Expr(expr, engine\u001b[38;5;241m=\u001b[39mengine, parser\u001b[38;5;241m=\u001b[39mparser, env\u001b[38;5;241m=\u001b[39menv)\n\u001b[0;32m    355\u001b[0m \u001b[38;5;66;03m# construct the engine and evaluate the parsed expression\u001b[39;00m\n\u001b[0;32m    356\u001b[0m eng \u001b[38;5;241m=\u001b[39m ENGINES[engine]\n",
      "File \u001b[1;32mC:\\ProgramData\\anaconda3\\Lib\\site-packages\\pandas\\core\\computation\\expr.py:813\u001b[0m, in \u001b[0;36mExpr.__init__\u001b[1;34m(self, expr, engine, parser, env, level)\u001b[0m\n\u001b[0;32m    811\u001b[0m \u001b[38;5;28mself\u001b[39m\u001b[38;5;241m.\u001b[39mparser \u001b[38;5;241m=\u001b[39m parser\n\u001b[0;32m    812\u001b[0m \u001b[38;5;28mself\u001b[39m\u001b[38;5;241m.\u001b[39m_visitor \u001b[38;5;241m=\u001b[39m PARSERS[parser](\u001b[38;5;28mself\u001b[39m\u001b[38;5;241m.\u001b[39menv, \u001b[38;5;28mself\u001b[39m\u001b[38;5;241m.\u001b[39mengine, \u001b[38;5;28mself\u001b[39m\u001b[38;5;241m.\u001b[39mparser)\n\u001b[1;32m--> 813\u001b[0m \u001b[38;5;28mself\u001b[39m\u001b[38;5;241m.\u001b[39mterms \u001b[38;5;241m=\u001b[39m \u001b[38;5;28mself\u001b[39m\u001b[38;5;241m.\u001b[39mparse()\n",
      "File \u001b[1;32mC:\\ProgramData\\anaconda3\\Lib\\site-packages\\pandas\\core\\computation\\expr.py:832\u001b[0m, in \u001b[0;36mExpr.parse\u001b[1;34m(self)\u001b[0m\n\u001b[0;32m    828\u001b[0m \u001b[38;5;28;01mdef\u001b[39;00m \u001b[38;5;21mparse\u001b[39m(\u001b[38;5;28mself\u001b[39m):\n\u001b[0;32m    829\u001b[0m \u001b[38;5;250m    \u001b[39m\u001b[38;5;124;03m\"\"\"\u001b[39;00m\n\u001b[0;32m    830\u001b[0m \u001b[38;5;124;03m    Parse an expression.\u001b[39;00m\n\u001b[0;32m    831\u001b[0m \u001b[38;5;124;03m    \"\"\"\u001b[39;00m\n\u001b[1;32m--> 832\u001b[0m     \u001b[38;5;28;01mreturn\u001b[39;00m \u001b[38;5;28mself\u001b[39m\u001b[38;5;241m.\u001b[39m_visitor\u001b[38;5;241m.\u001b[39mvisit(\u001b[38;5;28mself\u001b[39m\u001b[38;5;241m.\u001b[39mexpr)\n",
      "File \u001b[1;32mC:\\ProgramData\\anaconda3\\Lib\\site-packages\\pandas\\core\\computation\\expr.py:415\u001b[0m, in \u001b[0;36mBaseExprVisitor.visit\u001b[1;34m(self, node, **kwargs)\u001b[0m\n\u001b[0;32m    413\u001b[0m method \u001b[38;5;241m=\u001b[39m \u001b[38;5;124m\"\u001b[39m\u001b[38;5;124mvisit_\u001b[39m\u001b[38;5;124m\"\u001b[39m \u001b[38;5;241m+\u001b[39m \u001b[38;5;28mtype\u001b[39m(node)\u001b[38;5;241m.\u001b[39m\u001b[38;5;18m__name__\u001b[39m\n\u001b[0;32m    414\u001b[0m visitor \u001b[38;5;241m=\u001b[39m \u001b[38;5;28mgetattr\u001b[39m(\u001b[38;5;28mself\u001b[39m, method)\n\u001b[1;32m--> 415\u001b[0m \u001b[38;5;28;01mreturn\u001b[39;00m visitor(node, \u001b[38;5;241m*\u001b[39m\u001b[38;5;241m*\u001b[39mkwargs)\n",
      "File \u001b[1;32mC:\\ProgramData\\anaconda3\\Lib\\site-packages\\pandas\\core\\computation\\expr.py:421\u001b[0m, in \u001b[0;36mBaseExprVisitor.visit_Module\u001b[1;34m(self, node, **kwargs)\u001b[0m\n\u001b[0;32m    419\u001b[0m     \u001b[38;5;28;01mraise\u001b[39;00m \u001b[38;5;167;01mSyntaxError\u001b[39;00m(\u001b[38;5;124m\"\u001b[39m\u001b[38;5;124monly a single expression is allowed\u001b[39m\u001b[38;5;124m\"\u001b[39m)\n\u001b[0;32m    420\u001b[0m expr \u001b[38;5;241m=\u001b[39m node\u001b[38;5;241m.\u001b[39mbody[\u001b[38;5;241m0\u001b[39m]\n\u001b[1;32m--> 421\u001b[0m \u001b[38;5;28;01mreturn\u001b[39;00m \u001b[38;5;28mself\u001b[39m\u001b[38;5;241m.\u001b[39mvisit(expr, \u001b[38;5;241m*\u001b[39m\u001b[38;5;241m*\u001b[39mkwargs)\n",
      "File \u001b[1;32mC:\\ProgramData\\anaconda3\\Lib\\site-packages\\pandas\\core\\computation\\expr.py:415\u001b[0m, in \u001b[0;36mBaseExprVisitor.visit\u001b[1;34m(self, node, **kwargs)\u001b[0m\n\u001b[0;32m    413\u001b[0m method \u001b[38;5;241m=\u001b[39m \u001b[38;5;124m\"\u001b[39m\u001b[38;5;124mvisit_\u001b[39m\u001b[38;5;124m\"\u001b[39m \u001b[38;5;241m+\u001b[39m \u001b[38;5;28mtype\u001b[39m(node)\u001b[38;5;241m.\u001b[39m\u001b[38;5;18m__name__\u001b[39m\n\u001b[0;32m    414\u001b[0m visitor \u001b[38;5;241m=\u001b[39m \u001b[38;5;28mgetattr\u001b[39m(\u001b[38;5;28mself\u001b[39m, method)\n\u001b[1;32m--> 415\u001b[0m \u001b[38;5;28;01mreturn\u001b[39;00m visitor(node, \u001b[38;5;241m*\u001b[39m\u001b[38;5;241m*\u001b[39mkwargs)\n",
      "File \u001b[1;32mC:\\ProgramData\\anaconda3\\Lib\\site-packages\\pandas\\core\\computation\\expr.py:424\u001b[0m, in \u001b[0;36mBaseExprVisitor.visit_Expr\u001b[1;34m(self, node, **kwargs)\u001b[0m\n\u001b[0;32m    423\u001b[0m \u001b[38;5;28;01mdef\u001b[39;00m \u001b[38;5;21mvisit_Expr\u001b[39m(\u001b[38;5;28mself\u001b[39m, node, \u001b[38;5;241m*\u001b[39m\u001b[38;5;241m*\u001b[39mkwargs):\n\u001b[1;32m--> 424\u001b[0m     \u001b[38;5;28;01mreturn\u001b[39;00m \u001b[38;5;28mself\u001b[39m\u001b[38;5;241m.\u001b[39mvisit(node\u001b[38;5;241m.\u001b[39mvalue, \u001b[38;5;241m*\u001b[39m\u001b[38;5;241m*\u001b[39mkwargs)\n",
      "File \u001b[1;32mC:\\ProgramData\\anaconda3\\Lib\\site-packages\\pandas\\core\\computation\\expr.py:415\u001b[0m, in \u001b[0;36mBaseExprVisitor.visit\u001b[1;34m(self, node, **kwargs)\u001b[0m\n\u001b[0;32m    413\u001b[0m method \u001b[38;5;241m=\u001b[39m \u001b[38;5;124m\"\u001b[39m\u001b[38;5;124mvisit_\u001b[39m\u001b[38;5;124m\"\u001b[39m \u001b[38;5;241m+\u001b[39m \u001b[38;5;28mtype\u001b[39m(node)\u001b[38;5;241m.\u001b[39m\u001b[38;5;18m__name__\u001b[39m\n\u001b[0;32m    414\u001b[0m visitor \u001b[38;5;241m=\u001b[39m \u001b[38;5;28mgetattr\u001b[39m(\u001b[38;5;28mself\u001b[39m, method)\n\u001b[1;32m--> 415\u001b[0m \u001b[38;5;28;01mreturn\u001b[39;00m visitor(node, \u001b[38;5;241m*\u001b[39m\u001b[38;5;241m*\u001b[39mkwargs)\n",
      "File \u001b[1;32mC:\\ProgramData\\anaconda3\\Lib\\site-packages\\pandas\\core\\computation\\expr.py:723\u001b[0m, in \u001b[0;36mBaseExprVisitor.visit_Compare\u001b[1;34m(self, node, **kwargs)\u001b[0m\n\u001b[0;32m    721\u001b[0m     op \u001b[38;5;241m=\u001b[39m \u001b[38;5;28mself\u001b[39m\u001b[38;5;241m.\u001b[39mtranslate_In(ops[\u001b[38;5;241m0\u001b[39m])\n\u001b[0;32m    722\u001b[0m     binop \u001b[38;5;241m=\u001b[39m ast\u001b[38;5;241m.\u001b[39mBinOp(op\u001b[38;5;241m=\u001b[39mop, left\u001b[38;5;241m=\u001b[39mnode\u001b[38;5;241m.\u001b[39mleft, right\u001b[38;5;241m=\u001b[39mcomps[\u001b[38;5;241m0\u001b[39m])\n\u001b[1;32m--> 723\u001b[0m     \u001b[38;5;28;01mreturn\u001b[39;00m \u001b[38;5;28mself\u001b[39m\u001b[38;5;241m.\u001b[39mvisit(binop)\n\u001b[0;32m    725\u001b[0m \u001b[38;5;66;03m# recursive case: we have a chained comparison, a CMP b CMP c, etc.\u001b[39;00m\n\u001b[0;32m    726\u001b[0m left \u001b[38;5;241m=\u001b[39m node\u001b[38;5;241m.\u001b[39mleft\n",
      "File \u001b[1;32mC:\\ProgramData\\anaconda3\\Lib\\site-packages\\pandas\\core\\computation\\expr.py:415\u001b[0m, in \u001b[0;36mBaseExprVisitor.visit\u001b[1;34m(self, node, **kwargs)\u001b[0m\n\u001b[0;32m    413\u001b[0m method \u001b[38;5;241m=\u001b[39m \u001b[38;5;124m\"\u001b[39m\u001b[38;5;124mvisit_\u001b[39m\u001b[38;5;124m\"\u001b[39m \u001b[38;5;241m+\u001b[39m \u001b[38;5;28mtype\u001b[39m(node)\u001b[38;5;241m.\u001b[39m\u001b[38;5;18m__name__\u001b[39m\n\u001b[0;32m    414\u001b[0m visitor \u001b[38;5;241m=\u001b[39m \u001b[38;5;28mgetattr\u001b[39m(\u001b[38;5;28mself\u001b[39m, method)\n\u001b[1;32m--> 415\u001b[0m \u001b[38;5;28;01mreturn\u001b[39;00m visitor(node, \u001b[38;5;241m*\u001b[39m\u001b[38;5;241m*\u001b[39mkwargs)\n",
      "File \u001b[1;32mC:\\ProgramData\\anaconda3\\Lib\\site-packages\\pandas\\core\\computation\\expr.py:538\u001b[0m, in \u001b[0;36mBaseExprVisitor.visit_BinOp\u001b[1;34m(self, node, **kwargs)\u001b[0m\n\u001b[0;32m    536\u001b[0m op, op_class, left, right \u001b[38;5;241m=\u001b[39m \u001b[38;5;28mself\u001b[39m\u001b[38;5;241m.\u001b[39m_maybe_transform_eq_ne(node)\n\u001b[0;32m    537\u001b[0m left, right \u001b[38;5;241m=\u001b[39m \u001b[38;5;28mself\u001b[39m\u001b[38;5;241m.\u001b[39m_maybe_downcast_constants(left, right)\n\u001b[1;32m--> 538\u001b[0m \u001b[38;5;28;01mreturn\u001b[39;00m \u001b[38;5;28mself\u001b[39m\u001b[38;5;241m.\u001b[39m_maybe_evaluate_binop(op, op_class, left, right)\n",
      "File \u001b[1;32mC:\\ProgramData\\anaconda3\\Lib\\site-packages\\pandas\\core\\computation\\expr.py:532\u001b[0m, in \u001b[0;36mBaseExprVisitor._maybe_evaluate_binop\u001b[1;34m(self, op, op_class, lhs, rhs, eval_in_python, maybe_eval_in_python)\u001b[0m\n\u001b[0;32m    525\u001b[0m \u001b[38;5;28;01melif\u001b[39;00m \u001b[38;5;28mself\u001b[39m\u001b[38;5;241m.\u001b[39mengine \u001b[38;5;241m!=\u001b[39m \u001b[38;5;124m\"\u001b[39m\u001b[38;5;124mpytables\u001b[39m\u001b[38;5;124m\"\u001b[39m:\n\u001b[0;32m    526\u001b[0m     \u001b[38;5;28;01mif\u001b[39;00m (\n\u001b[0;32m    527\u001b[0m         \u001b[38;5;28mgetattr\u001b[39m(lhs, \u001b[38;5;124m\"\u001b[39m\u001b[38;5;124mreturn_type\u001b[39m\u001b[38;5;124m\"\u001b[39m, \u001b[38;5;28;01mNone\u001b[39;00m) \u001b[38;5;241m==\u001b[39m \u001b[38;5;28mobject\u001b[39m\n\u001b[0;32m    528\u001b[0m         \u001b[38;5;129;01mor\u001b[39;00m \u001b[38;5;28mgetattr\u001b[39m(rhs, \u001b[38;5;124m\"\u001b[39m\u001b[38;5;124mreturn_type\u001b[39m\u001b[38;5;124m\"\u001b[39m, \u001b[38;5;28;01mNone\u001b[39;00m) \u001b[38;5;241m==\u001b[39m \u001b[38;5;28mobject\u001b[39m\n\u001b[0;32m    529\u001b[0m     ):\n\u001b[0;32m    530\u001b[0m         \u001b[38;5;66;03m# evaluate \"==\" and \"!=\" in python if either of our operands\u001b[39;00m\n\u001b[0;32m    531\u001b[0m         \u001b[38;5;66;03m# has an object return type\u001b[39;00m\n\u001b[1;32m--> 532\u001b[0m         \u001b[38;5;28;01mreturn\u001b[39;00m \u001b[38;5;28mself\u001b[39m\u001b[38;5;241m.\u001b[39m_maybe_eval(res, eval_in_python \u001b[38;5;241m+\u001b[39m maybe_eval_in_python)\n\u001b[0;32m    533\u001b[0m \u001b[38;5;28;01mreturn\u001b[39;00m res\n",
      "File \u001b[1;32mC:\\ProgramData\\anaconda3\\Lib\\site-packages\\pandas\\core\\computation\\expr.py:492\u001b[0m, in \u001b[0;36mBaseExprVisitor._maybe_eval\u001b[1;34m(self, binop, eval_in_python)\u001b[0m\n\u001b[0;32m    485\u001b[0m \u001b[38;5;28;01mdef\u001b[39;00m \u001b[38;5;21m_maybe_eval\u001b[39m(\u001b[38;5;28mself\u001b[39m, binop, eval_in_python):\n\u001b[0;32m    486\u001b[0m     \u001b[38;5;66;03m# eval `in` and `not in` (for now) in \"partial\" python space\u001b[39;00m\n\u001b[0;32m    487\u001b[0m     \u001b[38;5;66;03m# things that can be evaluated in \"eval\" space will be turned into\u001b[39;00m\n\u001b[1;32m   (...)\u001b[0m\n\u001b[0;32m    490\u001b[0m     \u001b[38;5;66;03m# in that case a + 2 * b will be evaluated using numexpr, and the \"in\"\u001b[39;00m\n\u001b[0;32m    491\u001b[0m     \u001b[38;5;66;03m# call will be evaluated using isin (in python space)\u001b[39;00m\n\u001b[1;32m--> 492\u001b[0m     \u001b[38;5;28;01mreturn\u001b[39;00m binop\u001b[38;5;241m.\u001b[39mevaluate(\n\u001b[0;32m    493\u001b[0m         \u001b[38;5;28mself\u001b[39m\u001b[38;5;241m.\u001b[39menv, \u001b[38;5;28mself\u001b[39m\u001b[38;5;241m.\u001b[39mengine, \u001b[38;5;28mself\u001b[39m\u001b[38;5;241m.\u001b[39mparser, \u001b[38;5;28mself\u001b[39m\u001b[38;5;241m.\u001b[39mterm_type, eval_in_python\n\u001b[0;32m    494\u001b[0m     )\n",
      "File \u001b[1;32mC:\\ProgramData\\anaconda3\\Lib\\site-packages\\pandas\\core\\computation\\ops.py:449\u001b[0m, in \u001b[0;36mBinOp.evaluate\u001b[1;34m(self, env, engine, parser, term_type, eval_in_python)\u001b[0m\n\u001b[0;32m    447\u001b[0m \u001b[38;5;66;03m# base cases\u001b[39;00m\n\u001b[0;32m    448\u001b[0m \u001b[38;5;28;01mif\u001b[39;00m \u001b[38;5;28mself\u001b[39m\u001b[38;5;241m.\u001b[39mop \u001b[38;5;129;01min\u001b[39;00m eval_in_python:\n\u001b[1;32m--> 449\u001b[0m     res \u001b[38;5;241m=\u001b[39m \u001b[38;5;28mself\u001b[39m\u001b[38;5;241m.\u001b[39mfunc(left\u001b[38;5;241m.\u001b[39mvalue, right\u001b[38;5;241m.\u001b[39mvalue)\n\u001b[0;32m    450\u001b[0m \u001b[38;5;28;01melse\u001b[39;00m:\n\u001b[0;32m    451\u001b[0m     \u001b[38;5;28;01mfrom\u001b[39;00m \u001b[38;5;21;01mpandas\u001b[39;00m\u001b[38;5;21;01m.\u001b[39;00m\u001b[38;5;21;01mcore\u001b[39;00m\u001b[38;5;21;01m.\u001b[39;00m\u001b[38;5;21;01mcomputation\u001b[39;00m\u001b[38;5;21;01m.\u001b[39;00m\u001b[38;5;21;01meval\u001b[39;00m \u001b[38;5;28;01mimport\u001b[39;00m \u001b[38;5;28meval\u001b[39m\n",
      "File \u001b[1;32mC:\\ProgramData\\anaconda3\\Lib\\site-packages\\pandas\\core\\ops\\common.py:72\u001b[0m, in \u001b[0;36m_unpack_zerodim_and_defer.<locals>.new_method\u001b[1;34m(self, other)\u001b[0m\n\u001b[0;32m     68\u001b[0m             \u001b[38;5;28;01mreturn\u001b[39;00m \u001b[38;5;28mNotImplemented\u001b[39m\n\u001b[0;32m     70\u001b[0m other \u001b[38;5;241m=\u001b[39m item_from_zerodim(other)\n\u001b[1;32m---> 72\u001b[0m \u001b[38;5;28;01mreturn\u001b[39;00m method(\u001b[38;5;28mself\u001b[39m, other)\n",
      "File \u001b[1;32mC:\\ProgramData\\anaconda3\\Lib\\site-packages\\pandas\\core\\arraylike.py:58\u001b[0m, in \u001b[0;36mOpsMixin.__gt__\u001b[1;34m(self, other)\u001b[0m\n\u001b[0;32m     56\u001b[0m \u001b[38;5;129m@unpack_zerodim_and_defer\u001b[39m(\u001b[38;5;124m\"\u001b[39m\u001b[38;5;124m__gt__\u001b[39m\u001b[38;5;124m\"\u001b[39m)\n\u001b[0;32m     57\u001b[0m \u001b[38;5;28;01mdef\u001b[39;00m \u001b[38;5;21m__gt__\u001b[39m(\u001b[38;5;28mself\u001b[39m, other):\n\u001b[1;32m---> 58\u001b[0m     \u001b[38;5;28;01mreturn\u001b[39;00m \u001b[38;5;28mself\u001b[39m\u001b[38;5;241m.\u001b[39m_cmp_method(other, operator\u001b[38;5;241m.\u001b[39mgt)\n",
      "File \u001b[1;32mC:\\ProgramData\\anaconda3\\Lib\\site-packages\\pandas\\core\\series.py:6243\u001b[0m, in \u001b[0;36mSeries._cmp_method\u001b[1;34m(self, other, op)\u001b[0m\n\u001b[0;32m   6240\u001b[0m rvalues \u001b[38;5;241m=\u001b[39m extract_array(other, extract_numpy\u001b[38;5;241m=\u001b[39m\u001b[38;5;28;01mTrue\u001b[39;00m, extract_range\u001b[38;5;241m=\u001b[39m\u001b[38;5;28;01mTrue\u001b[39;00m)\n\u001b[0;32m   6242\u001b[0m \u001b[38;5;28;01mwith\u001b[39;00m np\u001b[38;5;241m.\u001b[39merrstate(\u001b[38;5;28mall\u001b[39m\u001b[38;5;241m=\u001b[39m\u001b[38;5;124m\"\u001b[39m\u001b[38;5;124mignore\u001b[39m\u001b[38;5;124m\"\u001b[39m):\n\u001b[1;32m-> 6243\u001b[0m     res_values \u001b[38;5;241m=\u001b[39m ops\u001b[38;5;241m.\u001b[39mcomparison_op(lvalues, rvalues, op)\n\u001b[0;32m   6245\u001b[0m \u001b[38;5;28;01mreturn\u001b[39;00m \u001b[38;5;28mself\u001b[39m\u001b[38;5;241m.\u001b[39m_construct_result(res_values, name\u001b[38;5;241m=\u001b[39mres_name)\n",
      "File \u001b[1;32mC:\\ProgramData\\anaconda3\\Lib\\site-packages\\pandas\\core\\ops\\array_ops.py:287\u001b[0m, in \u001b[0;36mcomparison_op\u001b[1;34m(left, right, op)\u001b[0m\n\u001b[0;32m    284\u001b[0m     \u001b[38;5;28;01mreturn\u001b[39;00m invalid_comparison(lvalues, rvalues, op)\n\u001b[0;32m    286\u001b[0m \u001b[38;5;28;01melif\u001b[39;00m is_object_dtype(lvalues\u001b[38;5;241m.\u001b[39mdtype) \u001b[38;5;129;01mor\u001b[39;00m \u001b[38;5;28misinstance\u001b[39m(rvalues, \u001b[38;5;28mstr\u001b[39m):\n\u001b[1;32m--> 287\u001b[0m     res_values \u001b[38;5;241m=\u001b[39m comp_method_OBJECT_ARRAY(op, lvalues, rvalues)\n\u001b[0;32m    289\u001b[0m \u001b[38;5;28;01melse\u001b[39;00m:\n\u001b[0;32m    290\u001b[0m     res_values \u001b[38;5;241m=\u001b[39m _na_arithmetic_op(lvalues, rvalues, op, is_cmp\u001b[38;5;241m=\u001b[39m\u001b[38;5;28;01mTrue\u001b[39;00m)\n",
      "File \u001b[1;32mC:\\ProgramData\\anaconda3\\Lib\\site-packages\\pandas\\core\\ops\\array_ops.py:75\u001b[0m, in \u001b[0;36mcomp_method_OBJECT_ARRAY\u001b[1;34m(op, x, y)\u001b[0m\n\u001b[0;32m     73\u001b[0m     result \u001b[38;5;241m=\u001b[39m libops\u001b[38;5;241m.\u001b[39mvec_compare(x\u001b[38;5;241m.\u001b[39mravel(), y\u001b[38;5;241m.\u001b[39mravel(), op)\n\u001b[0;32m     74\u001b[0m \u001b[38;5;28;01melse\u001b[39;00m:\n\u001b[1;32m---> 75\u001b[0m     result \u001b[38;5;241m=\u001b[39m libops\u001b[38;5;241m.\u001b[39mscalar_compare(x\u001b[38;5;241m.\u001b[39mravel(), y, op)\n\u001b[0;32m     76\u001b[0m \u001b[38;5;28;01mreturn\u001b[39;00m result\u001b[38;5;241m.\u001b[39mreshape(x\u001b[38;5;241m.\u001b[39mshape)\n",
      "File \u001b[1;32mC:\\ProgramData\\anaconda3\\Lib\\site-packages\\pandas\\_libs\\ops.pyx:107\u001b[0m, in \u001b[0;36mpandas._libs.ops.scalar_compare\u001b[1;34m()\u001b[0m\n",
      "\u001b[1;31mTypeError\u001b[0m: '>' not supported between instances of 'str' and 'int'"
     ]
    }
   ],
   "source": [
    "df.query(\"Death > 100\")"
   ]
  },
  {
   "cell_type": "code",
   "execution_count": 24,
   "id": "c213a30d",
   "metadata": {},
   "outputs": [
    {
     "data": {
      "text/html": [
       "<div>\n",
       "<style scoped>\n",
       "    .dataframe tbody tr th:only-of-type {\n",
       "        vertical-align: middle;\n",
       "    }\n",
       "\n",
       "    .dataframe tbody tr th {\n",
       "        vertical-align: top;\n",
       "    }\n",
       "\n",
       "    .dataframe thead th {\n",
       "        text-align: right;\n",
       "    }\n",
       "</style>\n",
       "<table border=\"1\" class=\"dataframe\">\n",
       "  <thead>\n",
       "    <tr style=\"text-align: right;\">\n",
       "      <th></th>\n",
       "      <th>Date</th>\n",
       "      <th>Name of State / UT</th>\n",
       "      <th>Latitude</th>\n",
       "      <th>Longitude</th>\n",
       "      <th>Total Confirmed cases</th>\n",
       "      <th>Death</th>\n",
       "      <th>Cured/Discharged/Migrated</th>\n",
       "      <th>New cases</th>\n",
       "      <th>New deaths</th>\n",
       "      <th>New recovered</th>\n",
       "    </tr>\n",
       "  </thead>\n",
       "  <tbody>\n",
       "  </tbody>\n",
       "</table>\n",
       "</div>"
      ],
      "text/plain": [
       "Empty DataFrame\n",
       "Columns: [Date, Name of State / UT, Latitude, Longitude, Total Confirmed cases, Death, Cured/Discharged/Migrated, New cases, New deaths, New recovered]\n",
       "Index: []"
      ]
     },
     "execution_count": 24,
     "metadata": {},
     "output_type": "execute_result"
    }
   ],
   "source": [
    "state_s = [100,200,0]\n",
    "df.query('Death==@state_s')"
   ]
  },
  {
   "cell_type": "code",
   "execution_count": 22,
   "id": "a767fd74",
   "metadata": {},
   "outputs": [],
   "source": [
    "# pd.cut(series,bins=bins,labels=labels)"
   ]
  },
  {
   "cell_type": "code",
   "execution_count": 26,
   "id": "8031def7",
   "metadata": {},
   "outputs": [],
   "source": [
    "## delete columns\n",
    "# df.pop('column name')\n",
    "# df.drop(['column name'],axis=1)"
   ]
  },
  {
   "cell_type": "code",
   "execution_count": null,
   "id": "64b1b460",
   "metadata": {},
   "outputs": [],
   "source": [
    "# delete row\n",
    "# df.drop(['row index'],axis=0)"
   ]
  }
 ],
 "metadata": {
  "kernelspec": {
   "display_name": "Python 3 (ipykernel)",
   "language": "python",
   "name": "python3"
  },
  "language_info": {
   "codemirror_mode": {
    "name": "ipython",
    "version": 3
   },
   "file_extension": ".py",
   "mimetype": "text/x-python",
   "name": "python",
   "nbconvert_exporter": "python",
   "pygments_lexer": "ipython3",
   "version": "3.11.3"
  }
 },
 "nbformat": 4,
 "nbformat_minor": 5
}
