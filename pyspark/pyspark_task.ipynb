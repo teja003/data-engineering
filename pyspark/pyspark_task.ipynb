{
 "cells": [
  {
   "cell_type": "code",
   "execution_count": 77,
   "id": "5efaec82",
   "metadata": {},
   "outputs": [],
   "source": [
    "from pyspark.sql import SparkSession\n",
    "from pyspark.sql.functions import *\n",
    "from pyspark.sql.window import Window"
   ]
  },
  {
   "cell_type": "code",
   "execution_count": 47,
   "id": "692a47c1",
   "metadata": {},
   "outputs": [],
   "source": [
    "spark = SparkSession.builder.appName(\"covid\").getOrCreate()"
   ]
  },
  {
   "cell_type": "code",
   "execution_count": 65,
   "id": "e9435684",
   "metadata": {},
   "outputs": [
    {
     "data": {
      "text/plain": [
       "['Date',\n",
       " 'Name of State / UT',\n",
       " 'Latitude',\n",
       " 'Longitude',\n",
       " 'Total Confirmed cases',\n",
       " 'Death',\n",
       " 'Cured/Discharged/Migrated',\n",
       " 'New cases',\n",
       " 'New deaths',\n",
       " 'New recovered']"
      ]
     },
     "execution_count": 65,
     "metadata": {},
     "output_type": "execute_result"
    }
   ],
   "source": [
    "df = spark.read.csv('covid.csv',header=True,inferSchema=True)\n",
    "df.columns"
   ]
  },
  {
   "cell_type": "code",
   "execution_count": 49,
   "id": "f6074bf4",
   "metadata": {},
   "outputs": [],
   "source": [
    "df = df.withColumn(\"Total Confirmed cases\", col(\"Total Confirmed cases\").cast(\"int\"))\n",
    "df = df.withColumn(\"Death\", col(\"Death\").cast(\"int\"))\n",
    "df = df.withColumn(\"Cured/Discharged/Migrated\", col(\"Cured/Discharged/Migrated\").cast(\"int\"))"
   ]
  },
  {
   "cell_type": "code",
   "execution_count": 69,
   "id": "5abc16c8",
   "metadata": {},
   "outputs": [
    {
     "name": "stdout",
     "output_type": "stream",
     "text": [
      "+----------------------------------------+\n",
      "|Name of State / UT                      |\n",
      "+----------------------------------------+\n",
      "|delhi                                   |\n",
      "|maharashtra                             |\n",
      "|meghalaya                               |\n",
      "|odisha                                  |\n",
      "|haryana                                 |\n",
      "|west bengal                             |\n",
      "|goa                                     |\n",
      "|punjab                                  |\n",
      "|jammu and kashmir                       |\n",
      "|dadra and nagar haveli and daman and diu|\n",
      "|karnataka                               |\n",
      "|andhra pradesh                          |\n",
      "|telangana                               |\n",
      "|nagaland                                |\n",
      "|bihar                                   |\n",
      "|madhya pradesh                          |\n",
      "|jharkhand                               |\n",
      "|assam                                   |\n",
      "|kerala                                  |\n",
      "|tamil nadu                              |\n",
      "|himachal pradesh                        |\n",
      "|union territory of ladakh               |\n",
      "|chandigarh                              |\n",
      "|ladakh                                  |\n",
      "|chhattisgarh                            |\n",
      "|union territory of jammu and kashmir    |\n",
      "|rajasthan                               |\n",
      "|telengana                               |\n",
      "|uttar pradesh                           |\n",
      "|telangana***                            |\n",
      "|tripura                                 |\n",
      "|gujarat                                 |\n",
      "|sikkim                                  |\n",
      "|union territory of chandigarh           |\n",
      "|mizoram                                 |\n",
      "|manipur                                 |\n",
      "|arunachal pradesh                       |\n",
      "|puducherry                              |\n",
      "|andaman and nicobar islands             |\n",
      "|uttarakhand                             |\n",
      "+----------------------------------------+\n",
      "\n"
     ]
    }
   ],
   "source": [
    "df = df.withColumn(\"Name of State / UT\", lower(\"Name of State / UT\"))\n",
    "df.select(df['Name of State / UT']).distinct().show(n=40,truncate=False)"
   ]
  },
  {
   "cell_type": "code",
   "execution_count": 70,
   "id": "4688ff34",
   "metadata": {},
   "outputs": [
    {
     "data": {
      "text/plain": [
       "Row(Date='2020-08-06', max_cases=468265.0)"
      ]
     },
     "execution_count": 70,
     "metadata": {},
     "output_type": "execute_result"
    }
   ],
   "source": [
    "grouped_df = df.groupBy('Date').agg(max('Total Confirmed cases').alias('max_cases'))\n",
    "max_cases_row = grouped_df.orderBy(col('max_cases').desc()).first()\n",
    "date_with_max_cases = max_cases_row['Date']\n",
    "max_cases = max_cases_row['max_cases']\n",
    "max_cases_row"
   ]
  },
  {
   "cell_type": "code",
   "execution_count": 71,
   "id": "bae8d2eb",
   "metadata": {},
   "outputs": [
    {
     "data": {
      "text/plain": [
       "Row(Name of State / UT='maharashtra', total_cases=15192247.0)"
      ]
     },
     "execution_count": 71,
     "metadata": {},
     "output_type": "execute_result"
    }
   ],
   "source": [
    "state_cases_df = df.groupBy('Name of State / UT').agg(sum('Total Confirmed cases').alias('total_cases')).orderBy(col('total_cases').desc())\n",
    "\n",
    "second_largest_state = state_cases_df.limit(2).orderBy(col('total_cases').asc()).collect()[1]\n",
    "second_largest_state"
   ]
  },
  {
   "cell_type": "code",
   "execution_count": 72,
   "id": "ac68cd25",
   "metadata": {},
   "outputs": [
    {
     "data": {
      "text/plain": [
       "Row(Date='2020-03-07', Name of State / UT='union territory of ladakh', Latitude=34.2996, Longitude=78.2932, Total Confirmed cases=2.0, Death='0', Cured/Discharged/Migrated=0.0, New cases=0, New deaths=0, New recovered=0, Newly Recovered Cases=0.0, Month=3)"
      ]
     },
     "execution_count": 72,
     "metadata": {},
     "output_type": "execute_result"
    }
   ],
   "source": [
    "df = df.na.fill(0, subset=[\"Death\"])\n",
    "ut_deaths_df = df.filter(df['Name of State / UT'].contains('union territory'))\n",
    "ut_deaths_df.orderBy(col('Death')).first()"
   ]
  },
  {
   "cell_type": "code",
   "execution_count": 75,
   "id": "0f3f1a65",
   "metadata": {},
   "outputs": [
    {
     "data": {
      "text/plain": [
       "Row(Date='2020-05-24', Name of State / UT='puducherry', Latitude=11.9416, Longitude=79.8083, Total Confirmed cases=26.0, Death='0#', Cured/Discharged/Migrated=10.0, New cases=0, New deaths=0, New recovered=0, Newly Recovered Cases=-487.0, Month=5, Death to Cases Ratio=None)"
      ]
     },
     "execution_count": 75,
     "metadata": {},
     "output_type": "execute_result"
    }
   ],
   "source": [
    "df = df.withColumn(\"Death to Cases Ratio\", col(\"Death\") / col(\"Total Confirmed cases\"))\n",
    "\n",
    "confirmed_above_zero_df = df.filter(col(\"Total Confirmed cases\") > 0)\n",
    "\n",
    "min_ratio_row = confirmed_above_zero_df.orderBy(col(\"Death to Cases Ratio\")).first()\n",
    "min_ratio_row"
   ]
  },
  {
   "cell_type": "code",
   "execution_count": 76,
   "id": "38970a8f",
   "metadata": {},
   "outputs": [
    {
     "data": {
      "text/plain": [
       "'July'"
      ]
     },
     "execution_count": 76,
     "metadata": {},
     "output_type": "execute_result"
    }
   ],
   "source": [
    "windowSpec = Window.orderBy(\"Date\")\n",
    "df = df.withColumn(\"Newly Recovered Cases\", coalesce(col(\"Cured/Discharged/Migrated\") - lag(col(\"Cured/Discharged/Migrated\"), 1).over(windowSpec), col(\"Cured/Discharged/Migrated\")))\n",
    "\n",
    "df = df.withColumn(\"Month\", month(col(\"Date\")))\n",
    "\n",
    "month_cases_df = df.groupBy(\"Month\").agg(sum(\"Newly Recovered Cases\").alias(\"total_newly_recovered_cases\"))\n",
    "\n",
    "max_cases_row = month_cases_df.orderBy(col(\"total_newly_recovered_cases\").desc()).first()\n",
    "month_with_max_cases = spark.sql(\"SELECT date_format(to_date(concat_ws('-', '2022', '\" + str(max_cases_row[\"Month\"]) + \"', '01')), 'MMMM') as month\").first()[\"month\"]\n",
    "month_with_max_cases"
   ]
  },
  {
   "cell_type": "code",
   "execution_count": null,
   "id": "1f6071f8",
   "metadata": {},
   "outputs": [],
   "source": []
  },
  {
   "cell_type": "code",
   "execution_count": null,
   "id": "b7559cd6",
   "metadata": {},
   "outputs": [],
   "source": []
  },
  {
   "cell_type": "code",
   "execution_count": null,
   "id": "80ceeeae",
   "metadata": {},
   "outputs": [],
   "source": []
  }
 ],
 "metadata": {
  "kernelspec": {
   "display_name": "Python 3 (ipykernel)",
   "language": "python",
   "name": "python3"
  },
  "language_info": {
   "codemirror_mode": {
    "name": "ipython",
    "version": 3
   },
   "file_extension": ".py",
   "mimetype": "text/x-python",
   "name": "python",
   "nbconvert_exporter": "python",
   "pygments_lexer": "ipython3",
   "version": "3.11.3"
  }
 },
 "nbformat": 4,
 "nbformat_minor": 5
}
